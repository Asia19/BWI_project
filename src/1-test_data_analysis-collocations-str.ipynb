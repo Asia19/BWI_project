{
 "cells": [
  {
   "cell_type": "code",
   "execution_count": 1,
   "metadata": {},
   "outputs": [],
   "source": [
    "import nltk\n",
    "import re\n",
    "from collections import Counter\n",
    "from itertools import islice\n",
    "import pickle\n",
    "import math"
   ]
  },
  {
   "cell_type": "markdown",
   "metadata": {},
   "source": [
    "## test corpus"
   ]
  },
  {
   "cell_type": "code",
   "execution_count": 2,
   "metadata": {},
   "outputs": [],
   "source": [
    "with open('../data/unigram_counter_test_str.pickle', 'rb') as unigram_file, \\\n",
    "        open('../data/bigram_counter_test_str.pickle', 'rb') as bigram_file, \\\n",
    "        open('../data/trigram_counter_test_str.pickle', 'rb') as trigram_file,\\\n",
    "        open('../data/tagged_unigrams_counter_test_str.pickle', 'rb') as tagged_unigram_file, \\\n",
    "        open('../data/tagged_bigrams_counter_test_str.pickle', 'rb') as tagged_bigram_file, \\\n",
    "        open('../data/tagged_trigrams_counter_test_str.pickle', 'rb') as tagged_trigram_file:\n",
    "    unigram_counter = pickle.load(unigram_file)\n",
    "    bigram_counter = pickle.load(bigram_file)\n",
    "    trigram_counter = pickle.load(trigram_file)    \n",
    "    tagged_unigram_counter = pickle.load(tagged_unigram_file)\n",
    "    tagged_bigram_counter = pickle.load(tagged_bigram_file)\n",
    "    tagged_trigram_counter = pickle.load(tagged_trigram_file)    "
   ]
  },
  {
   "cell_type": "markdown",
   "metadata": {},
   "source": [
    "# COLLOCATIONS"
   ]
  },
  {
   "cell_type": "code",
   "execution_count": 4,
   "metadata": {},
   "outputs": [],
   "source": [
    "# JJ - adjective or numeral, JJR  - adjective, JJS - adjective, superlative\n",
    "adjs = ['JJ','JJR','JJS']\n",
    "# NN noun, common; NNP - noun, proper, sing.; NNPS - noun, proper, plural; NNS - noun, common, plural\n",
    "nouns = ['NN','NNS','NNP','NNPS']\n",
    "tag_combs = []\n",
    "for noun in nouns:\n",
    "    tag_combs += [(adj, noun) for adj in adjs] # A,N\n",
    "    for adj in adjs:\n",
    "        for noun_ in nouns:\n",
    "            tag_combs.append((adj, noun, noun_)) # A, N, N\n",
    "            tag_combs.append((noun, adj, noun_)) # N, A, N\n",
    "        tag_combs += [(adj, adj_, noun) for adj_ in adjs] # A, A, N\n",
    "    for noun_ in nouns:\n",
    "        tag_combs += [(noun, noun_, noun__) for noun__ in nouns] # N, N, N\n",
    "        tag_combs += [(noun, 'IN', noun_)] # N, P, N\n",
    "    tag_combs += [(noun_, noun) for noun_ in nouns] # N, N"
   ]
  },
  {
   "cell_type": "code",
   "execution_count": 15,
   "metadata": {},
   "outputs": [],
   "source": [
    "def get_most_common(test_func, tagged_ngram_counter, m=20):\n",
    "    most_common = sorted(test_func, key=test_func.get, reverse=True)[:20]\n",
    "    print(\"               ngram              |  count  |   test   \")\n",
    "    for tagged_ngram in most_common:\n",
    "        ngram, _ = tagged_ngram\n",
    "        print(f\"{repr(ngram):^34}|{repr(tagged_ngram_counter[tagged_ngram]):^9}|{test_func[tagged_ngram]:^8.1f}\")"
   ]
  },
  {
   "cell_type": "markdown",
   "metadata": {},
   "source": [
    "## T-test"
   ]
  },
  {
   "cell_type": "markdown",
   "metadata": {},
   "source": [
    "<div style=\"font-size: 20px\">\n",
    "$$t = \\frac{\\bar{X} - \\mu}{\\sqrt{\\frac{s^2}{N}}}$$\n",
    "<br><div style=\"font-size:15px\">\n",
    "$\\mu=p(w1,w2)=p(w1)*p(w2)=\\frac{count(w1)}{n_{bigrams}}\\frac{count(w2)}{n_{bigrams}}$\n",
    "<br>$\\bar{X}=p(w1,w2)=\\frac{count(w1,w2)}{n_{bigrams}}$\n",
    "<br>$s^2=p(w1,w2)*\\left(1-p(w1,w2)\\right)\\approx p(w1,w2),$\n",
    "<br>because probability of each bigram is very small $\\Rightarrow (1-p) \\approx 1$\n",
    "    \n",
    "    \n",
    "$$t = \\frac{\\frac{count(w1,w2)}{n_{bigrams}} - \\frac{count(w1)*count(w2)}{n_{bigrams}^2}}{\\sqrt{\\frac{count(w1,w2)}{n_{bigrams}^2}}} = \\sqrt{count(w1,w2)} - \\frac{count(w1)*count(w2)}{n*\\sqrt{count(w1,w2)}}$$"
   ]
  },
  {
   "cell_type": "markdown",
   "metadata": {},
   "source": [
    "## BIGRAMS"
   ]
  },
  {
   "cell_type": "code",
   "execution_count": 16,
   "metadata": {},
   "outputs": [
    {
     "name": "stdout",
     "output_type": "stream",
     "text": [
      "               ngram              |  count  |   test   \n",
      "            'new york'            |  3290   |  57.4  \n",
      "           'last year'            |  2540   |  50.3  \n",
      "         'united states'          |  2429   |  49.3  \n",
      "           'last week'            |  1610   |  40.0  \n",
      "         'prime minister'         |  1322   |  36.4  \n",
      "           'last month'           |  1054   |  32.4  \n",
      "          'white house'           |  1029   |  32.1  \n",
      "           'first time'           |   958   |  30.9  \n",
      "          'barack obama'          |   801   |  28.1  \n",
      "        'chief executive'         |   777   |  27.9  \n",
      "          'health care'           |   774   |  27.8  \n",
      "           'next year'            |   619   |  24.9  \n",
      "          'human rights'          |   500   |  22.4  \n",
      "        'associated press'        |   526   |  22.3  \n",
      "          'los angeles'           |   486   |  22.0  \n",
      "         'vice president'         |   464   |  21.5  \n",
      "         'climate change'         |   409   |  20.2  \n",
      "          'wall street'           |   401   |  19.9  \n",
      "           'world cup'            |   388   |  19.7  \n",
      "          'high school'           |   384   |  19.6  \n"
     ]
    }
   ],
   "source": [
    "filtered_bigram_counter = Counter()\n",
    "for tagged_bigram, count in tagged_bigram_counter.items():\n",
    "    _, tags = tagged_bigram\n",
    "    if tags in tag_combs:\n",
    "        filtered_bigram_counter[tagged_bigram] = count\n",
    "        \n",
    "student_t2 = dict()\n",
    "n_bigrams = sum(bigram_counter.values())\n",
    "for tagged_bigram, count in filtered_bigram_counter.items():\n",
    "    bigram, _ = tagged_bigram\n",
    "    student_t2[tagged_bigram] = math.sqrt(count) \n",
    "    student_t2[tagged_bigram] -= unigram_counter[bigram[0]] * unigram_counter[bigram[1]] / n_bigrams / math.sqrt(count)\n",
    "\n",
    "get_most_common(student_t2, tagged_bigram_counter)"
   ]
  },
  {
   "cell_type": "markdown",
   "metadata": {},
   "source": [
    "## TRIGRAMS"
   ]
  },
  {
   "cell_type": "code",
   "execution_count": 18,
   "metadata": {},
   "outputs": [
    {
     "name": "stdout",
     "output_type": "stream",
     "text": [
      "               ngram              |  count  |   test   \n",
      "         '/ prnewswire /'         |   11    |  0.0   \n",
      "         'da vinci code'          |   11    |  0.0   \n",
      "           '/ top news'           |    6    |  0.0   \n",
      "        '/ mayo institute'        |    1    |  0.0   \n",
      "      'un security council'       |   26    |  0.0   \n",
      "         'i doubt things'         |    1    |  0.0   \n",
      "    'ip video communications'     |    1    |  0.0   \n",
      "     'un ambassador h.m.g.s'      |    1    |  0.0   \n",
      "           'tv in bed'            |    1    |  0.0   \n",
      "         'h. holder jr.'          |    5    |  0.0   \n",
      "           '% if pres'            |    1    |  0.0   \n",
      "        'ba from heathrow'        |    1    |  0.0   \n",
      "     '/ / www.doveawards.com'     |    1    |  0.0   \n",
      "          'tv for fear'           |    1    |  0.0   \n",
      "  '/ / www.northropgrumman.com'   |    1    |  0.0   \n",
      "        'ip media player'         |    2    |  0.0   \n",
      "    'uk government assistance'    |    1    |  0.0   \n",
      "        '/ / www.basf.com'        |    1    |  0.0   \n",
      "       '/ / thomas.loc.gov'       |    1    |  0.0   \n",
      "       '/ thomas.loc.gov /'       |    1    |  0.0   \n"
     ]
    }
   ],
   "source": [
    "filtered_trigram_counter = Counter()\n",
    "for tagged_trigram, count in tagged_trigram_counter.items():\n",
    "    _, tags = tagged_trigram\n",
    "    if tags in tag_combs:\n",
    "        filtered_trigram_counter[tagged_trigram] = count\n",
    "        \n",
    "student_t3 = dict()\n",
    "n_trigrams = sum(filtered_trigram_counter.values())\n",
    "for tagged_trigram, count in filtered_trigram_counter.items():\n",
    "    trigram, _ = tagged_trigram\n",
    "    student_t3[tagged_trigram] = math.sqrt(count) \n",
    "    student_t3[tagged_trigram] -= unigram_counter[trigram[0]] * unigram_counter[trigram[1]] * unigram_counter[trigram[2]]\n",
    "    student_t3[tagged_trigram] /= (n_trigrams * math.sqrt(count))\n",
    "    \n",
    "get_most_common(student_t3, tagged_trigram_counter)"
   ]
  },
  {
   "cell_type": "markdown",
   "metadata": {},
   "source": [
    "my $\\chi^2$ is too slow "
   ]
  },
  {
   "cell_type": "code",
   "execution_count": null,
   "metadata": {},
   "outputs": [],
   "source": [
    "chi_sq = dict()\n",
    "i, k = 0, len(filtered_bigram_counter)\n",
    "for tagged_bigram, o11 in filtered_bigram_counter.items():\n",
    "    print(f'working on {i}/{k} bigram',end='\\r')\n",
    "    i+=1\n",
    "    bigram, _ = tagged_bigram\n",
    "    w1, w2 = bigram.split()\n",
    "    o21, o12, o22 = 0, 0, 0\n",
    "    for bigram1, count in bigram_counter.items():\n",
    "        if bigram1.endswith(w2):\n",
    "            o12 += count\n",
    "        elif bigram1.startswith(w1):\n",
    "            o21 += count\n",
    "        else:\n",
    "            o22 += count\n",
    "    chi_sq[tagged_bigram] = n_bigrams * (o11 * o22 - o12 * o21)**2\n",
    "    chi_sq[tagged_bigram] /= ((o11 + o12)*(o11 + o21)*(o12 + o22)*(o21 + o22))"
   ]
  },
  {
   "cell_type": "code",
   "execution_count": null,
   "metadata": {},
   "outputs": [],
   "source": [
    "most_common = sorted(chi_sq, key=chi_sq.get, reverse=True)[:20]\n",
    "print(\"              bigram              |  count  |  chi-sq  \")\n",
    "for tagged_bigram in most_common:\n",
    "    bigram, _ = tagged_bigram\n",
    "    print(f\"{repr(bigram):^34}|{repr(tagged_bigram_counter[tagged_bigram]):^9}|{chi_sq[tagged_bigram]:^8.1f}\")"
   ]
  }
 ],
 "metadata": {
  "kernelspec": {
   "display_name": "Python 3",
   "language": "python",
   "name": "python3"
  },
  "language_info": {
   "codemirror_mode": {
    "name": "ipython",
    "version": 3
   },
   "file_extension": ".py",
   "mimetype": "text/x-python",
   "name": "python",
   "nbconvert_exporter": "python",
   "pygments_lexer": "ipython3",
   "version": "3.7.4"
  }
 },
 "nbformat": 4,
 "nbformat_minor": 2
}
