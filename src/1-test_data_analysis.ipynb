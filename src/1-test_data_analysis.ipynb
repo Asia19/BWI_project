{
 "cells": [
  {
   "cell_type": "code",
   "execution_count": 1,
   "metadata": {},
   "outputs": [],
   "source": [
    "import nltk\n",
    "import re\n",
    "from collections import Counter\n",
    "from itertools import islice"
   ]
  },
  {
   "cell_type": "markdown",
   "metadata": {},
   "source": [
    "## test corpus"
   ]
  },
  {
   "cell_type": "code",
   "execution_count": 2,
   "metadata": {},
   "outputs": [],
   "source": [
    "test_corpus = []\n",
    "with open('../data/test_v2.txt','rt') as file:\n",
    "    for line in file:\n",
    "        comma_pos = line.find(',')\n",
    "        words = re.sub('\"', '', line[comma_pos+1:]).lower()\n",
    "#         words = re.sub('[0-9]',\"#\",words)\n",
    "        test_corpus.append(nltk.word_tokenize(words))"
   ]
  },
  {
   "cell_type": "markdown",
   "metadata": {},
   "source": [
    "## sentence's length"
   ]
  },
  {
   "cell_type": "code",
   "execution_count": 3,
   "metadata": {},
   "outputs": [],
   "source": [
    "import matplotlib.pyplot as plt"
   ]
  },
  {
   "cell_type": "code",
   "execution_count": 4,
   "metadata": {},
   "outputs": [
    {
     "name": "stdout",
     "output_type": "stream",
     "text": [
      "working on 0kth line\r",
      "working on 1kth line\r",
      "working on 2kth line\r",
      "working on 3kth line\r",
      "working on 4kth line\r",
      "working on 5kth line\r",
      "working on 6kth line\r",
      "working on 7kth line\r",
      "working on 8kth line\r",
      "working on 9kth line\r",
      "working on 10kth line\r",
      "working on 11kth line\r",
      "working on 12kth line\r",
      "working on 13kth line\r",
      "working on 14kth line\r",
      "working on 15kth line\r",
      "working on 16kth line\r",
      "working on 17kth line\r",
      "working on 18kth line\r",
      "working on 19kth line\r",
      "working on 20kth line\r",
      "working on 21kth line\r",
      "working on 22kth line\r",
      "working on 23kth line\r",
      "working on 24kth line\r",
      "working on 25kth line\r",
      "working on 26kth line\r",
      "working on 27kth line\r",
      "working on 28kth line\r",
      "working on 29kth line\r",
      "working on 30kth line\r",
      "working on 31kth line\r",
      "working on 32kth line\r",
      "working on 33kth line\r",
      "working on 34kth line\r",
      "working on 35kth line\r",
      "working on 36kth line\r",
      "working on 37kth line\r",
      "working on 38kth line\r",
      "working on 39kth line\r",
      "working on 40kth line\r",
      "working on 41kth line\r",
      "working on 42kth line\r",
      "working on 43kth line\r",
      "working on 44kth line\r",
      "working on 45kth line\r",
      "working on 46kth line\r",
      "working on 47kth line\r",
      "working on 48kth line\r",
      "working on 49kth line\r",
      "working on 50kth line\r",
      "working on 51kth line\r",
      "working on 52kth line\r",
      "working on 53kth line\r",
      "working on 54kth line\r",
      "working on 55kth line\r",
      "working on 56kth line\r",
      "working on 57kth line\r",
      "working on 58kth line\r",
      "working on 59kth line\r",
      "working on 60kth line\r",
      "working on 61kth line\r",
      "working on 62kth line\r",
      "working on 63kth line\r",
      "working on 64kth line\r",
      "working on 65kth line\r",
      "working on 66kth line\r",
      "working on 67kth line\r",
      "working on 68kth line\r",
      "working on 69kth line\r",
      "working on 70kth line\r",
      "working on 71kth line\r",
      "working on 72kth line\r",
      "working on 73kth line\r",
      "working on 74kth line\r",
      "working on 75kth line\r",
      "working on 76kth line\r",
      "working on 77kth line\r",
      "working on 78kth line\r",
      "working on 79kth line\r",
      "working on 80kth line\r",
      "working on 81kth line\r",
      "working on 82kth line\r",
      "working on 83kth line\r",
      "working on 84kth line\r",
      "working on 85kth line\r",
      "working on 86kth line\r",
      "working on 87kth line\r",
      "working on 88kth line\r",
      "working on 89kth line\r",
      "working on 90kth line\r",
      "working on 91kth line\r",
      "working on 92kth line\r",
      "working on 93kth line\r",
      "working on 94kth line\r",
      "working on 95kth line\r",
      "working on 96kth line\r",
      "working on 97kth line\r",
      "working on 98kth line\r",
      "working on 99kth line\r",
      "working on 100kth line\r",
      "working on 101kth line\r",
      "working on 102kth line\r",
      "working on 103kth line\r",
      "working on 104kth line\r",
      "working on 105kth line\r",
      "working on 106kth line\r",
      "working on 107kth line\r",
      "working on 108kth line\r",
      "working on 109kth line\r",
      "working on 110kth line\r",
      "working on 111kth line\r",
      "working on 112kth line\r",
      "working on 113kth line\r",
      "working on 114kth line\r",
      "working on 115kth line\r",
      "working on 116kth line\r",
      "working on 117kth line\r",
      "working on 118kth line\r",
      "working on 119kth line\r",
      "working on 120kth line\r",
      "working on 121kth line\r",
      "working on 122kth line\r",
      "working on 123kth line\r",
      "working on 124kth line\r",
      "working on 125kth line\r",
      "working on 126kth line\r",
      "working on 127kth line\r",
      "working on 128kth line\r",
      "working on 129kth line\r",
      "working on 130kth line\r",
      "working on 131kth line\r",
      "working on 132kth line\r",
      "working on 133kth line\r",
      "working on 134kth line\r",
      "working on 135kth line\r",
      "working on 136kth line\r",
      "working on 137kth line\r",
      "working on 138kth line\r",
      "working on 139kth line\r",
      "working on 140kth line\r",
      "working on 141kth line\r",
      "working on 142kth line\r",
      "working on 143kth line\r",
      "working on 144kth line\r",
      "working on 145kth line\r",
      "working on 146kth line\r",
      "working on 147kth line\r",
      "working on 148kth line\r",
      "working on 149kth line\r",
      "working on 150kth line\r",
      "working on 151kth line\r",
      "working on 152kth line\r",
      "working on 153kth line\r",
      "working on 154kth line\r",
      "working on 155kth line\r",
      "working on 156kth line\r",
      "working on 157kth line\r",
      "working on 158kth line\r",
      "working on 159kth line\r",
      "working on 160kth line\r",
      "working on 161kth line\r",
      "working on 162kth line\r",
      "working on 163kth line\r",
      "working on 164kth line\r",
      "working on 165kth line\r",
      "working on 166kth line\r",
      "working on 167kth line\r",
      "working on 168kth line\r",
      "working on 169kth line\r",
      "working on 170kth line\r",
      "working on 171kth line\r",
      "working on 172kth line\r",
      "working on 173kth line\r",
      "working on 174kth line\r",
      "working on 175kth line\r",
      "working on 176kth line\r",
      "working on 177kth line\r",
      "working on 178kth line\r",
      "working on 179kth line\r",
      "working on 180kth line\r",
      "working on 181kth line\r",
      "working on 182kth line\r",
      "working on 183kth line\r",
      "working on 184kth line\r",
      "working on 185kth line\r",
      "working on 186kth line\r",
      "working on 187kth line\r",
      "working on 188kth line\r",
      "working on 189kth line\r",
      "working on 190kth line\r",
      "working on 191kth line\r",
      "working on 192kth line\r",
      "working on 193kth line\r",
      "working on 194kth line\r",
      "working on 195kth line\r",
      "working on 196kth line\r",
      "working on 197kth line\r",
      "working on 198kth line\r",
      "working on 199kth line\r",
      "working on 200kth line\r",
      "working on 201kth line\r",
      "working on 202kth line\r",
      "working on 203kth line\r",
      "working on 204kth line\r",
      "working on 205kth line\r",
      "working on 206kth line\r",
      "working on 207kth line\r",
      "working on 208kth line\r",
      "working on 209kth line\r",
      "working on 210kth line\r",
      "working on 211kth line\r",
      "working on 212kth line\r",
      "working on 213kth line\r",
      "working on 214kth line\r",
      "working on 215kth line\r",
      "working on 216kth line\r",
      "working on 217kth line\r",
      "working on 218kth line\r",
      "working on 219kth line\r",
      "working on 220kth line\r",
      "working on 221kth line\r",
      "working on 222kth line\r",
      "working on 223kth line\r",
      "working on 224kth line\r",
      "working on 225kth line\r",
      "working on 226kth line\r",
      "working on 227kth line\r",
      "working on 228kth line\r",
      "working on 229kth line\r",
      "working on 230kth line\r",
      "working on 231kth line\r",
      "working on 232kth line\r",
      "working on 233kth line\r",
      "working on 234kth line\r",
      "working on 235kth line\r",
      "working on 236kth line\r",
      "working on 237kth line\r",
      "working on 238kth line\r",
      "working on 239kth line\r",
      "working on 240kth line\r",
      "working on 241kth line\r",
      "working on 242kth line\r",
      "working on 243kth line\r",
      "working on 244kth line\r",
      "working on 245kth line\r",
      "working on 246kth line\r",
      "working on 247kth line\r",
      "working on 248kth line\r",
      "working on 249kth line\r",
      "working on 250kth line\r",
      "working on 251kth line\r",
      "working on 252kth line\r",
      "working on 253kth line\r",
      "working on 254kth line\r",
      "working on 255kth line\r",
      "working on 256kth line\r",
      "working on 257kth line\r",
      "working on 258kth line\r",
      "working on 259kth line\r",
      "working on 260kth line\r",
      "working on 261kth line\r",
      "working on 262kth line\r",
      "working on 263kth line\r",
      "working on 264kth line\r",
      "working on 265kth line\r",
      "working on 266kth line\r",
      "working on 267kth line\r",
      "working on 268kth line\r",
      "working on 269kth line\r",
      "working on 270kth line\r",
      "working on 271kth line\r",
      "working on 272kth line\r",
      "working on 273kth line\r",
      "working on 274kth line\r",
      "working on 275kth line\r",
      "working on 276kth line\r",
      "working on 277kth line\r",
      "working on 278kth line\r",
      "working on 279kth line\r",
      "working on 280kth line\r",
      "working on 281kth line\r",
      "working on 282kth line\r",
      "working on 283kth line\r",
      "working on 284kth line\r",
      "working on 285kth line\r",
      "working on 286kth line\r",
      "working on 287kth line\r",
      "working on 288kth line\r",
      "working on 289kth line\r",
      "working on 290kth line\r",
      "working on 291kth line\r",
      "working on 292kth line\r",
      "working on 293kth line\r",
      "working on 294kth line\r",
      "working on 295kth line\r",
      "working on 296kth line\r",
      "working on 297kth line\r",
      "working on 298kth line\r",
      "working on 299kth line\r",
      "working on 300kth line\r",
      "working on 301kth line\r",
      "working on 302kth line\r",
      "working on 303kth line\r",
      "working on 304kth line\r",
      "working on 305kth line\r",
      "working on 306kth line\r",
      "min sentence length: 0\n",
      "max sentence length: 996\n"
     ]
    }
   ],
   "source": [
    "sent_len_counter = Counter()\n",
    "for step, sentence in enumerate(test_corpus):\n",
    "    if not (step % 1000):\n",
    "        print(\"working on {}kth line\".format(step // 1000), end='\\r')\n",
    "    sent_len_counter[len(sentence)] += 1\n",
    "    \n",
    "min_len = min(sent_len_counter.keys())\n",
    "max_len = max(sent_len_counter.keys())\n",
    "print(f'min sentence length: {min_len}')\n",
    "print(f'max sentence length: {max_len}')"
   ]
  },
  {
   "cell_type": "code",
   "execution_count": 5,
   "metadata": {},
   "outputs": [
    {
     "data": {
      "image/png": "[encoded data removed]",
      "text/plain": [
       "<Figure size 720x576 with 1 Axes>"
      ]
     },
     "metadata": {
      "needs_background": "light"
     },
     "output_type": "display_data"
    }
   ],
   "source": [
    "plt.figure(figsize=[10,8])\n",
    "\n",
    "plt.bar(sent_len_counter.keys(), sent_len_counter.values(), width = 0.5, color='#0504aa')#, alpha=0.7)\n",
    "plt.xlim(min_len, max_len)\n",
    "plt.grid(axis='y', alpha=0.75)\n",
    "plt.xlabel('Value',fontsize=15)\n",
    "plt.ylabel('Frequency',fontsize=15)\n",
    "plt.xticks(fontsize=15)\n",
    "plt.yticks(fontsize=15)\n",
    "plt.title('Normal Distribution Histogram',fontsize=15)\n",
    "plt.show()"
   ]
  },
  {
   "cell_type": "markdown",
   "metadata": {},
   "source": [
    "## ngrams frequency"
   ]
  },
  {
   "cell_type": "code",
   "execution_count": 6,
   "metadata": {},
   "outputs": [
    {
     "name": "stdout",
     "output_type": "stream",
     "text": [
      "working on 306kth line\r"
     ]
    }
   ],
   "source": [
    "unigram_counter = Counter()\n",
    "for step, line in enumerate(test_corpus):\n",
    "    if not (step % 1000):\n",
    "        print(\"working on {}kth line\".format(step // 1000), end='\\r')\n",
    "    for token in line:\n",
    "        unigram_counter[token] += 1"
   ]
  },
  {
   "cell_type": "code",
   "execution_count": 7,
   "metadata": {},
   "outputs": [
    {
     "name": "stdout",
     "output_type": "stream",
     "text": [
      "number of all unigram in test corpus: 159740\n"
     ]
    },
    {
     "data": {
      "text/plain": [
       "[('the', 402020),\n",
       " (',', 342277),\n",
       " ('.', 310630),\n",
       " ('to', 178207),\n",
       " ('of', 168734),\n",
       " ('a', 160164),\n",
       " ('and', 158065),\n",
       " ('in', 144187),\n",
       " ('that', 67490),\n",
       " (\"'s\", 66412),\n",
       " ('for', 65828),\n",
       " ('on', 57408),\n",
       " ('is', 54571),\n",
       " ('with', 45371),\n",
       " ('was', 45145),\n",
       " ('it', 44682),\n",
       " ('said', 42003),\n",
       " ('as', 39376),\n",
       " ('he', 38611),\n",
       " ('at', 37377),\n",
       " ('by', 33483),\n",
       " ('from', 32106),\n",
       " ('be', 30163),\n",
       " ('his', 29807),\n",
       " ('have', 29134),\n",
       " ('has', 28797),\n",
       " ('but', 27430),\n",
       " ('are', 27330),\n",
       " ('an', 24998),\n",
       " ('not', 23329)]"
      ]
     },
     "execution_count": 7,
     "metadata": {},
     "output_type": "execute_result"
    }
   ],
   "source": [
    "print(f'number of all unigram in test corpus: {len(unigram_counter)}')\n",
    "unigram_counter.most_common(30)"
   ]
  },
  {
   "cell_type": "code",
   "execution_count": 8,
   "metadata": {},
   "outputs": [],
   "source": [
    "def get_windows(seq, n, need_sorted=False):\n",
    "    it = iter(seq)\n",
    "    result = list(islice(it, n))\n",
    "    if len(result) == n:\n",
    "        if need_sorted:\n",
    "            result = sorted(result)\n",
    "        yield tuple(result)\n",
    "    for elem in it:\n",
    "        result = result[1:] + [elem,]\n",
    "        if need_sorted:\n",
    "            result = sorted(result)\n",
    "        yield tuple(result)"
   ]
  },
  {
   "cell_type": "code",
   "execution_count": 9,
   "metadata": {},
   "outputs": [
    {
     "name": "stdout",
     "output_type": "stream",
     "text": [
      "working on 306kth line\r"
     ]
    }
   ],
   "source": [
    "bigram_counter = Counter()\n",
    "for step, line in enumerate(test_corpus):\n",
    "    if not (step % 1000):\n",
    "        print(\"working on {}kth line\".format(step // 1000), end='\\r')\n",
    "    for bigram in list(get_windows(line, 2)):\n",
    "        bigram_counter[bigram] += 1"
   ]
  },
  {
   "cell_type": "code",
   "execution_count": 10,
   "metadata": {},
   "outputs": [
    {
     "name": "stdout",
     "output_type": "stream",
     "text": [
      "working on 306kth line\r"
     ]
    }
   ],
   "source": [
    "# test version\n",
    "bigram_counter2 = Counter()\n",
    "for step, line in enumerate(test_corpus):\n",
    "    if not (step % 1000):\n",
    "        print(\"working on {}kth line\".format(step // 1000), end='\\r')\n",
    "    bigram_counter2.update(get_windows(line, 2))"
   ]
  },
  {
   "cell_type": "code",
   "execution_count": 11,
   "metadata": {},
   "outputs": [
    {
     "name": "stdout",
     "output_type": "stream",
     "text": [
      "number of all bigram in test corpus: 1877243\n"
     ]
    },
    {
     "data": {
      "text/plain": [
       "[(('of', 'the'), 38841),\n",
       " (('in', 'the'), 35334),\n",
       " ((',', 'the'), 24234),\n",
       " ((',', 'and'), 18767),\n",
       " (('to', 'the'), 16578),\n",
       " (('on', 'the'), 13130),\n",
       " (('for', 'the'), 13090),\n",
       " ((',', 'a'), 11441),\n",
       " (('said', '.'), 10755),\n",
       " (('at', 'the'), 10724),\n",
       " (('and', 'the'), 10330),\n",
       " ((',', 'but'), 10170),\n",
       " (('in', 'a'), 9837),\n",
       " ((',', 'which'), 9425),\n",
       " (('to', 'be'), 8911),\n",
       " ((',', 'said'), 8653),\n",
       " (('with', 'the'), 7869),\n",
       " ((',', 'he'), 7696),\n",
       " ((',', 'who'), 7676),\n",
       " (('from', 'the'), 7582),\n",
       " (('that', 'the'), 7528),\n",
       " (('of', 'a'), 7326),\n",
       " (('by', 'the'), 7047),\n",
       " (('as', 'a'), 5684),\n",
       " (('with', 'a'), 5287),\n",
       " (('to', 'a'), 5260),\n",
       " (('more', 'than'), 5259),\n",
       " (('for', 'a'), 5172),\n",
       " (('has', 'been'), 5172),\n",
       " (('will', 'be'), 5086)]"
      ]
     },
     "execution_count": 11,
     "metadata": {},
     "output_type": "execute_result"
    }
   ],
   "source": [
    "print(f'number of all bigram in test corpus: {len(bigram_counter)}')\n",
    "bigram_counter.most_common(30)"
   ]
  },
  {
   "cell_type": "code",
   "execution_count": 12,
   "metadata": {},
   "outputs": [
    {
     "name": "stdout",
     "output_type": "stream",
     "text": [
      "working on 306kth line\r"
     ]
    }
   ],
   "source": [
    "trigram_counter = Counter()\n",
    "for step, line in enumerate(test_corpus):\n",
    "    if not (step % 1000):\n",
    "        print(\"working on {}kth line\".format(step // 1000), end='\\r')\n",
    "    for trigram in list(get_windows(line, 3)):\n",
    "        trigram_counter[trigram] += 1"
   ]
  },
  {
   "cell_type": "code",
   "execution_count": 13,
   "metadata": {},
   "outputs": [
    {
     "name": "stdout",
     "output_type": "stream",
     "text": [
      "number of all trigram in test corpus: 4583562\n"
     ]
    },
    {
     "data": {
      "text/plain": [
       "[((',', 'he', 'said'), 3088),\n",
       " (('one', 'of', 'the'), 2580),\n",
       " (('he', 'said', '.'), 2531),\n",
       " ((',', 'according', 'to'), 2346),\n",
       " (('(', 'ap', ')'), 2275),\n",
       " (('the', 'united', 'states'), 2223),\n",
       " ((',', 'and', 'the'), 1883),\n",
       " (('ap', ')', '-'), 1788),\n",
       " (('as', 'well', 'as'), 1436),\n",
       " (('the', 'end', 'of'), 1296),\n",
       " (('upi', ')', '--'), 1289),\n",
       " (('(', 'upi', ')'), 1275),\n",
       " ((',', 'which', 'is'), 1172),\n",
       " (('the', 'world', \"'s\"), 1111),\n",
       " ((',', 'but', 'the'), 1102),\n",
       " (('(', 'reuters', ')'), 1069),\n",
       " (('reuters', ')', '-'), 1047),\n",
       " (('according', 'to', 'the'), 1013),\n",
       " (('some', 'of', 'the'), 956),\n",
       " (('in', 'the', 'first'), 942),\n",
       " ((',', 'said', 'the'), 908),\n",
       " (('part', 'of', 'the'), 895),\n",
       " ((',', 'she', 'said'), 879),\n",
       " (('the', 'company', \"'s\"), 875),\n",
       " (('the', 'first', 'time'), 872),\n",
       " (('for', 'the', 'first'), 854),\n",
       " (('the', 'country', \"'s\"), 844),\n",
       " (('out', 'of', 'the'), 822),\n",
       " (('the', 'new', 'york'), 804),\n",
       " ((',', 'however', ','), 800)]"
      ]
     },
     "execution_count": 13,
     "metadata": {},
     "output_type": "execute_result"
    }
   ],
   "source": [
    "print(f'number of all trigram in test corpus: {len(trigram_counter)}')\n",
    "trigram_counter.most_common(30)"
   ]
  },
  {
   "cell_type": "markdown",
   "metadata": {},
   "source": [
    "## distribution"
   ]
  },
  {
   "cell_type": "code",
   "execution_count": 14,
   "metadata": {},
   "outputs": [],
   "source": [
    "from collections import defaultdict"
   ]
  },
  {
   "cell_type": "code",
   "execution_count": 15,
   "metadata": {},
   "outputs": [],
   "source": [
    "def get_windows(seq, n):\n",
    "    it = iter(seq)\n",
    "    result = list(islice(it, n))\n",
    "    if len(result) == n:\n",
    "        output = tuple(result[:n-1]), result[-1]\n",
    "        yield output\n",
    "    for elem in it:\n",
    "        result = result[1:] + [elem,]\n",
    "        output = tuple(result[:n-1]), result[-1]\n",
    "        yield output"
   ]
  },
  {
   "cell_type": "code",
   "execution_count": 16,
   "metadata": {},
   "outputs": [],
   "source": [
    "unigram_dist = defaultdict(lambda: 0)\n",
    "bigram_dist = defaultdict(lambda: 0)\n",
    "trigram_dist = defaultdict(lambda: 0)\n",
    "\n",
    "# unigram distrubution counting\n",
    "n_unigram = len(unigram_counter)\n",
    "for word in unigram_counter:\n",
    "    unigram_dist[word] /= n_unigram\n",
    "    \n",
    "# bigram distrubution counting\n",
    "for bigram in bigram_counter:\n",
    "    bigram_dist[bigram] = bigram_counter[bigram] / unigram_counter[bigram[0]]\n",
    "    \n",
    "# trigram distrubution counting\n",
    "for trigram in trigram_counter:\n",
    "    trigram_dist[trigram] = trigram_counter[bigram] / bigram_counter[trigram[:2]]"
   ]
  },
  {
   "cell_type": "code",
   "execution_count": null,
   "metadata": {},
   "outputs": [],
   "source": []
  },
  {
   "cell_type": "markdown",
   "metadata": {},
   "source": [
    "## Pos-tag ngrams"
   ]
  },
  {
   "cell_type": "code",
   "execution_count": 17,
   "metadata": {},
   "outputs": [
    {
     "name": "stderr",
     "output_type": "stream",
     "text": [
      "[nltk_data] Downloading package averaged_perceptron_tagger to\n",
      "[nltk_data]     C:\\Users\\persi\\AppData\\Roaming\\nltk_data...\n",
      "[nltk_data]   Package averaged_perceptron_tagger is already up-to-\n",
      "[nltk_data]       date!\n"
     ]
    },
    {
     "data": {
      "text/plain": [
       "True"
      ]
     },
     "execution_count": 17,
     "metadata": {},
     "output_type": "execute_result"
    }
   ],
   "source": [
    "import nltk\n",
    "nltk.download('averaged_perceptron_tagger')"
   ]
  },
  {
   "cell_type": "code",
   "execution_count": 18,
   "metadata": {},
   "outputs": [],
   "source": [
    "unigram_tags_counter = Counter()\n",
    "unigram_tags_counter.update([tag for gram, tag in nltk.pos_tag(unigram_counter.keys())])"
   ]
  },
  {
   "cell_type": "code",
   "execution_count": 19,
   "metadata": {},
   "outputs": [
    {
     "name": "stdout",
     "output_type": "stream",
     "text": [
      "number of all unigram tags in test corpus: 40\n"
     ]
    },
    {
     "data": {
      "text/plain": [
       "[('NN', 53225),\n",
       " ('JJ', 50662),\n",
       " ('NNS', 14723),\n",
       " ('CD', 12280),\n",
       " ('VBD', 6559),\n",
       " ('VBP', 5942),\n",
       " ('VBG', 4677),\n",
       " ('RB', 3264),\n",
       " ('VBZ', 2323),\n",
       " ('IN', 2006),\n",
       " ('VBN', 1245),\n",
       " ('VB', 560),\n",
       " ('NNP', 513),\n",
       " ('JJR', 423),\n",
       " ('FW', 269),\n",
       " ('JJS', 222),\n",
       " ('POS', 208),\n",
       " ('RBR', 163),\n",
       " ('$', 88),\n",
       " ('MD', 73),\n",
       " ('RBS', 73),\n",
       " ('DT', 46),\n",
       " ('CC', 44),\n",
       " ('RP', 30),\n",
       " ('WP', 28),\n",
       " ('PRP', 25),\n",
       " ('WRB', 23),\n",
       " ('PRP$', 13),\n",
       " ('WDT', 8),\n",
       " ('EX', 6)]"
      ]
     },
     "execution_count": 19,
     "metadata": {},
     "output_type": "execute_result"
    }
   ],
   "source": [
    "print(f'number of all unigram tags in test corpus: {len(unigram_tags_counter)}')\n",
    "unigram_tags_counter.most_common(30)"
   ]
  },
  {
   "cell_type": "code",
   "execution_count": 20,
   "metadata": {},
   "outputs": [],
   "source": [
    "bigram_tags = nltk.pos_tag_sents(bigram_counter.keys())\n",
    "bigram_tags_counter = Counter()\n",
    "for step, bigram_tag in enumerate(bigram_tags):\n",
    "    bigram_tags_counter[tuple([tag for gram, tag in bigram_tag])] += 1"
   ]
  },
  {
   "cell_type": "code",
   "execution_count": 21,
   "metadata": {},
   "outputs": [
    {
     "name": "stdout",
     "output_type": "stream",
     "text": [
      "number of all bigram tags in test corpus: 1208\n"
     ]
    },
    {
     "data": {
      "text/plain": [
       "[(('NN', 'NN'), 193955),\n",
       " (('JJ', 'NN'), 136148),\n",
       " (('NN', 'IN'), 75134),\n",
       " (('NN', 'NNS'), 70390),\n",
       " (('NN', 'VBD'), 65772),\n",
       " (('IN', 'NN'), 63974),\n",
       " (('DT', 'NN'), 52210),\n",
       " (('JJ', 'NNS'), 49884),\n",
       " (('NN', ','), 35107),\n",
       " (('NNS', 'VBP'), 29989),\n",
       " (('NNS', 'IN'), 29883),\n",
       " (('NNS', 'VBD'), 29113),\n",
       " (('NN', '.'), 25553),\n",
       " (('VBN', 'NN'), 23694),\n",
       " (('VBG', 'NN'), 23113),\n",
       " (('NN', 'CC'), 22618),\n",
       " (('IN', 'NNS'), 20246),\n",
       " (('NN', 'VBZ'), 19472),\n",
       " (('CD', 'NN'), 18861),\n",
       " (('NN', 'RB'), 17712),\n",
       " (('NNS', 'NN'), 17522),\n",
       " ((',', 'NN'), 17349),\n",
       " (('IN', 'JJ'), 16644),\n",
       " (('CD', 'NNS'), 15732),\n",
       " (('CC', 'NN'), 15618),\n",
       " (('DT', 'JJ'), 15414),\n",
       " (('RB', 'NN'), 15192),\n",
       " (('PRP$', 'NN'), 15113),\n",
       " (('RB', 'JJ'), 13417),\n",
       " (('VBN', 'IN'), 13344)]"
      ]
     },
     "execution_count": 21,
     "metadata": {},
     "output_type": "execute_result"
    }
   ],
   "source": [
    "print(f'number of all bigram tags in test corpus: {len(bigram_tags_counter)}')\n",
    "bigram_tags_counter.most_common(30)"
   ]
  },
  {
   "cell_type": "code",
   "execution_count": 24,
   "metadata": {},
   "outputs": [],
   "source": [
    "trigram_tags = nltk.pos_tag_sents(trigram_counter.keys())\n",
    "trigram_tags_counter = Counter()\n",
    "for step, trigram_tag in enumerate(trigram_tags):\n",
    "    trigram_tags_counter[tuple([tag for gram, tag in trigram_tag])] += 1"
   ]
  },
  {
   "cell_type": "code",
   "execution_count": 25,
   "metadata": {},
   "outputs": [
    {
     "name": "stdout",
     "output_type": "stream",
     "text": [
      "number of all trigram tags in test corpus: 22403\n"
     ]
    },
    {
     "data": {
      "text/plain": [
       "[(('NN', 'IN', 'NN'), 85264),\n",
       " (('DT', 'JJ', 'NN'), 78892),\n",
       " (('IN', 'DT', 'NN'), 70905),\n",
       " (('JJ', 'NN', 'IN'), 53143),\n",
       " (('DT', 'NN', 'NN'), 50226),\n",
       " (('JJ', 'NN', 'NN'), 48218),\n",
       " (('NN', 'IN', 'DT'), 46825),\n",
       " (('NN', 'NN', 'NN'), 43734),\n",
       " (('NN', ',', 'NN'), 37009),\n",
       " (('NN', 'NN', ','), 35081),\n",
       " (('NN', 'NN', 'IN'), 33765),\n",
       " (('DT', 'NN', 'IN'), 30424),\n",
       " (('NNS', 'IN', 'NN'), 30133),\n",
       " (('NN', 'CC', 'NN'), 29903),\n",
       " (('NN', 'TO', 'VB'), 29463),\n",
       " (('IN', 'JJ', 'NN'), 29137),\n",
       " (('NN', 'POS', 'NN'), 25745),\n",
       " (('JJ', 'NN', '.'), 24108),\n",
       " (('NN', 'IN', 'JJ'), 23970),\n",
       " (('JJ', 'NN', ','), 23153),\n",
       " (('VB', 'DT', 'NN'), 22933),\n",
       " (('JJ', 'NNS', 'IN'), 22394),\n",
       " (('NN', 'NN', '.'), 22143),\n",
       " (('IN', 'NN', 'NN'), 21818),\n",
       " (('NN', 'NN', 'VBD'), 21645),\n",
       " (('IN', 'JJ', 'NNS'), 20163),\n",
       " (('IN', 'DT', 'JJ'), 19805),\n",
       " (('NN', 'IN', 'NNS'), 19011),\n",
       " (('NNS', 'IN', 'DT'), 18812),\n",
       " (('JJ', 'NN', 'NNS'), 18408)]"
      ]
     },
     "execution_count": 25,
     "metadata": {},
     "output_type": "execute_result"
    }
   ],
   "source": [
    "print(f'number of all trigram tags in test corpus: {len(trigram_tags_counter)}')\n",
    "trigram_tags_counter.most_common(30)"
   ]
  }
 ],
 "metadata": {
  "kernelspec": {
   "display_name": "Python 3",
   "language": "python",
   "name": "python3"
  },
  "language_info": {
   "codemirror_mode": {
    "name": "ipython",
    "version": 3
   },
   "file_extension": ".py",
   "mimetype": "text/x-python",
   "name": "python",
   "nbconvert_exporter": "python",
   "pygments_lexer": "ipython3",
   "version": "3.7.4"
  }
 },
 "nbformat": 4,
 "nbformat_minor": 2
}
