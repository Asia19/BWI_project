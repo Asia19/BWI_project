{
 "cells": [
  {
   "cell_type": "code",
   "execution_count": 1,
   "metadata": {},
   "outputs": [],
   "source": [
    "import nltk\n",
    "import re\n",
    "from collections import Counter\n",
    "from itertools import islice"
   ]
  },
  {
   "cell_type": "markdown",
   "metadata": {},
   "source": [
    "## test corpus\n",
    "### ngrams frequency"
   ]
  },
  {
   "cell_type": "code",
   "execution_count": 2,
   "metadata": {},
   "outputs": [],
   "source": [
    "train_corpus = []\n",
    "test_corpus = []\n",
    "with open('../data/test_v2.txt','rt') as file:\n",
    "    for line in file:\n",
    "        comma_pos = line.find(',')\n",
    "        words = re.sub('\"', '', line[comma_pos+1:]).lower()\n",
    "#         words = re.sub('[0-9]',\"#\",words)\n",
    "        test_corpus.append(nltk.word_tokenize(words))"
   ]
  },
  {
   "cell_type": "code",
   "execution_count": 3,
   "metadata": {},
   "outputs": [
    {
     "name": "stdout",
     "output_type": "stream",
     "text": [
      "working on 306kth line\r"
     ]
    }
   ],
   "source": [
    "unigram_counter = Counter()\n",
    "for step, line in enumerate(test_corpus):\n",
    "    if not (step % 1000):\n",
    "        print(\"working on {}kth line\".format(step // 1000), end='\\r')\n",
    "    for token in line:\n",
    "        unigram_counter[token] += 1"
   ]
  },
  {
   "cell_type": "code",
   "execution_count": 4,
   "metadata": {},
   "outputs": [
    {
     "data": {
      "text/plain": [
       "[('the', 402020),\n",
       " (',', 342277),\n",
       " ('.', 310630),\n",
       " ('to', 178207),\n",
       " ('of', 168734),\n",
       " ('a', 160164),\n",
       " ('and', 158065),\n",
       " ('in', 144187),\n",
       " ('that', 67490),\n",
       " (\"'s\", 66412),\n",
       " ('for', 65828),\n",
       " ('on', 57408),\n",
       " ('is', 54571),\n",
       " ('with', 45371),\n",
       " ('was', 45145),\n",
       " ('it', 44682),\n",
       " ('said', 42003),\n",
       " ('as', 39376),\n",
       " ('he', 38611),\n",
       " ('at', 37377),\n",
       " ('by', 33483),\n",
       " ('from', 32106),\n",
       " ('be', 30163),\n",
       " ('his', 29807),\n",
       " ('have', 29134),\n",
       " ('has', 28797),\n",
       " ('but', 27430),\n",
       " ('are', 27330),\n",
       " ('an', 24998),\n",
       " ('not', 23329)]"
      ]
     },
     "execution_count": 4,
     "metadata": {},
     "output_type": "execute_result"
    }
   ],
   "source": [
    "unigram_counter.most_common(30)"
   ]
  },
  {
   "cell_type": "code",
   "execution_count": 5,
   "metadata": {},
   "outputs": [],
   "source": [
    "def get_windows(seq, n):\n",
    "    it = iter(seq)\n",
    "    result = list(islice(it, n))\n",
    "    if len(result) == n:\n",
    "        # using sort for context words because the tuples of the same words have to be equivalent\n",
    "        output = sorted(result)\n",
    "        yield tuple(output)\n",
    "    for elem in it:\n",
    "        result = result[1:] + [elem,]\n",
    "        output = sorted(result)\n",
    "        yield tuple(output)"
   ]
  },
  {
   "cell_type": "code",
   "execution_count": 6,
   "metadata": {},
   "outputs": [
    {
     "name": "stdout",
     "output_type": "stream",
     "text": [
      "working on 306kth line\r"
     ]
    }
   ],
   "source": [
    "bigram_counter = Counter()\n",
    "for step, line in enumerate(test_corpus):\n",
    "    if not (step % 1000):\n",
    "        print(\"working on {}kth line\".format(step // 1000), end='\\r')\n",
    "    for bigram in list(get_windows(line, 2)):\n",
    "        bigram_counter[bigram] += 1"
   ]
  },
  {
   "cell_type": "code",
   "execution_count": 7,
   "metadata": {},
   "outputs": [
    {
     "data": {
      "text/plain": [
       "[(('of', 'the'), 40629),\n",
       " (('in', 'the'), 35643),\n",
       " ((',', 'the'), 25161),\n",
       " ((',', 'and'), 20033),\n",
       " (('the', 'to'), 16872),\n",
       " (('on', 'the'), 13265),\n",
       " (('for', 'the'), 13261),\n",
       " ((',', 'a'), 11769),\n",
       " (('at', 'the'), 10823),\n",
       " (('and', 'the'), 10781),\n",
       " (('.', 'said'), 10777),\n",
       " ((',', 'but'), 10552),\n",
       " ((',', 'said'), 10303),\n",
       " (('a', 'in'), 10025),\n",
       " ((',', 'which'), 9591),\n",
       " (('be', 'to'), 9196),\n",
       " (('a', 'of'), 7970),\n",
       " (('the', 'with'), 7961),\n",
       " ((',', 'who'), 7856),\n",
       " ((',', 'he'), 7799),\n",
       " (('that', 'the'), 7718),\n",
       " (('from', 'the'), 7638),\n",
       " (('he', 'said'), 7160),\n",
       " (('by', 'the'), 7086),\n",
       " (('a', 'as'), 5704),\n",
       " (('a', 'to'), 5446),\n",
       " ((',', 'it'), 5344),\n",
       " (('a', 'with'), 5342),\n",
       " (('a', 'for'), 5289),\n",
       " (('more', 'than'), 5263)]"
      ]
     },
     "execution_count": 7,
     "metadata": {},
     "output_type": "execute_result"
    }
   ],
   "source": [
    "bigram_counter.most_common(30)"
   ]
  },
  {
   "cell_type": "code",
   "execution_count": 8,
   "metadata": {},
   "outputs": [
    {
     "name": "stdout",
     "output_type": "stream",
     "text": [
      "working on 306kth line\r"
     ]
    }
   ],
   "source": [
    "trigram_counter = Counter()\n",
    "for step, line in enumerate(test_corpus):\n",
    "    if not (step % 1000):\n",
    "        print(\"working on {}kth line\".format(step // 1000), end='\\r')\n",
    "    for trigram in list(get_windows(line, 3)):\n",
    "        trigram_counter[trigram] += 1"
   ]
  },
  {
   "cell_type": "code",
   "execution_count": 10,
   "metadata": {},
   "outputs": [
    {
     "data": {
      "text/plain": [
       "[((',', 'he', 'said'), 3985),\n",
       " (('of', 'one', 'the'), 2603),\n",
       " (('.', 'he', 'said'), 2533),\n",
       " ((',', 'according', 'to'), 2359),\n",
       " (('(', ')', 'ap'), 2275),\n",
       " (('states', 'the', 'united'), 2234),\n",
       " ((',', 'and', 'the'), 1989),\n",
       " (('end', 'of', 'the'), 1924),\n",
       " ((')', '-', 'ap'), 1789),\n",
       " (('as', 'as', 'well'), 1436),\n",
       " ((')', '--', 'upi'), 1289),\n",
       " (('(', ')', 'upi'), 1275),\n",
       " ((',', 'is', 'which'), 1182),\n",
       " ((',', 'but', 'the'), 1150),\n",
       " ((',', 'said', 'she'), 1146),\n",
       " ((\"'s\", 'the', 'world'), 1116),\n",
       " ((',', 'said', 'the'), 1108),\n",
       " (('(', ')', 'reuters'), 1069),\n",
       " ((')', '-', 'reuters'), 1047),\n",
       " (('first', 'in', 'the'), 1036),\n",
       " (('according', 'the', 'to'), 1013),\n",
       " (('most', 'of', 'the'), 993),\n",
       " (('of', 'some', 'the'), 971),\n",
       " (('of', 'part', 'the'), 950),\n",
       " ((',', 'in', 'the'), 919),\n",
       " (('first', 'the', 'time'), 913),\n",
       " ((\"'s\", 'company', 'the'), 876),\n",
       " (('first', 'for', 'the'), 863),\n",
       " (('able', 'be', 'to'), 860),\n",
       " ((\"'s\", 'country', 'the'), 846)]"
      ]
     },
     "execution_count": 10,
     "metadata": {},
     "output_type": "execute_result"
    }
   ],
   "source": [
    "trigram_counter.most_common(30)"
   ]
  }
 ],
 "metadata": {
  "kernelspec": {
   "display_name": "Python 3",
   "language": "python",
   "name": "python3"
  },
  "language_info": {
   "codemirror_mode": {
    "name": "ipython",
    "version": 3
   },
   "file_extension": ".py",
   "mimetype": "text/x-python",
   "name": "python",
   "nbconvert_exporter": "python",
   "pygments_lexer": "ipython3",
   "version": "3.7.4"
  }
 },
 "nbformat": 4,
 "nbformat_minor": 2
}
