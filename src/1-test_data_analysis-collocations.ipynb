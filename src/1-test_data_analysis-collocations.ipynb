{
 "cells": [
  {
   "cell_type": "code",
   "execution_count": 46,
   "metadata": {},
   "outputs": [],
   "source": [
    "import nltk\n",
    "import re\n",
    "from collections import Counter\n",
    "from itertools import islice\n",
    "import pickle"
   ]
  },
  {
   "cell_type": "markdown",
   "metadata": {},
   "source": [
    "## test corpus"
   ]
  },
  {
   "cell_type": "code",
   "execution_count": 117,
   "metadata": {},
   "outputs": [],
   "source": [
    "with open('../data/unigram_counter_test.pickle', 'rb') as unigram_file, \\\n",
    "        open('../data/bigram_counter_test.pickle', 'rb') as bigram_file, \\\n",
    "        open('../data/trigram_counter_test.pickle', 'rb') as trigram_file,\\\n",
    "        open('../data/tagged_unigrams_counter_test.pickle', 'rb') as tagged_unigram_file, \\\n",
    "        open('../data/tagged_bigrams_counter_test.pickle', 'rb') as tagged_bigram_file, \\\n",
    "        open('../data/tagged_trigrams_counter_test.pickle', 'rb') as tagged_trigram_file:\n",
    "    unigram_counter = pickle.load(unigram_file)\n",
    "    bigram_counter = pickle.load(bigram_file)\n",
    "    trigram_counter = pickle.load(trigram_file)    \n",
    "    tagged_unigram_counter = pickle.load(tagged_unigram_file)\n",
    "    tagged_bigram_counter = pickle.load(tagged_bigram_file)\n",
    "    tagged_trigram_counter = pickle.load(tagged_trigram_file)    "
   ]
  },
  {
   "cell_type": "markdown",
   "metadata": {},
   "source": [
    "# COLLOCATIONS"
   ]
  },
  {
   "cell_type": "markdown",
   "metadata": {},
   "source": [
    "## T-test"
   ]
  },
  {
   "cell_type": "markdown",
   "metadata": {},
   "source": [
    "<div style=\"font-size: 20px\">\n",
    "$$t = \\frac{\\bar{X} - \\mu}{\\sqrt{\\frac{s^2}{N}}}$$\n",
    "<br><div style=\"font-size:15px\">\n",
    "$\\mu=p(w1,w2)=p(w1)*p(w2)=\\frac{count(w1)}{n_{bigrams}}\\frac{count(w2)}{n_{bigrams}}$\n",
    "<br>$\\bar{X}=p(w1,w2)=\\frac{count(w1,w2)}{n_{bigrams}}$\n",
    "<br>$s^2=p(w1,w2)*\\left(1-p(w1,w2)\\right)\\approx p(w1,w2),$\n",
    "<br>because probability of each bigram is very small $\\Rightarrow (1-p) \\approx 1$\n",
    "    \n",
    "    \n",
    "$$t = \\frac{\\frac{count(w1,w2)}{n_{bigrams}} - \\frac{count(w1)*count(w2)}{n_{bigrams}^2}}{\\sqrt{\\frac{count(w1,w2)}{n_{bigrams}^2}}} = \\sqrt{count(w1,w2)} - \\frac{count(w1)*count(w2)}{n*\\sqrt{count(w1,w2)}}$$"
   ]
  },
  {
   "cell_type": "code",
   "execution_count": 4,
   "metadata": {},
   "outputs": [],
   "source": [
    "import math"
   ]
  },
  {
   "cell_type": "code",
   "execution_count": 58,
   "metadata": {},
   "outputs": [],
   "source": [
    "# JJ - adjective or numeral, JJR  - adjective, JJS - adjective, superlative\n",
    "adjs = ['JJ','JJR','JJS']\n",
    "# NN noun, common; NNP - noun, proper, sing.; NNPS - noun, proper, plural; NNS - noun, common, plural\n",
    "nouns = ['NN','NNS','NNP','NNPS']\n",
    "for noun in nouns:\n",
    "    tag_combs = [(adj, noun) for adj in adjs] # A,N\n",
    "    for adj in adjs:\n",
    "        for noun_ in nouns:\n",
    "            tag_combs.append((adj, noun, noun_)) # A, N, N\n",
    "            tag_combs.append((noun, adj, noun_)) # N, A, N\n",
    "        tag_combs += [(adj, adj_, noun) for adj_ in adjs] # A, A, N\n",
    "    for noun_ in nouns:\n",
    "        tag_combs += [(noun, noun_, noun__) for noun__ in nouns] # N, N, N\n",
    "        tag_combs += [(noun, 'IN', noun_)] # N, P, N\n",
    "    tag_combs += [(noun_, noun) for noun_ in nouns] # N, N"
   ]
  },
  {
   "cell_type": "code",
   "execution_count": 112,
   "metadata": {},
   "outputs": [],
   "source": [
    "filtered_bigram_counter = Counter()\n",
    "for tagged_bigram, count in tagged_bigram_counter.items():\n",
    "    _, tags = zip(*tagged_bigram)\n",
    "    if tags in tag_combs:\n",
    "        filtered_bigram_counter[tagged_bigram] = count"
   ]
  },
  {
   "cell_type": "code",
   "execution_count": 113,
   "metadata": {},
   "outputs": [],
   "source": [
    "student_t = dict()\n",
    "n_bigrams = sum(filtered_bigram_counter.values())\n",
    "for tagged_bigram, count in filtered_bigram_counter.items():\n",
    "    bigram, _ = zip(*tagged_bigram)\n",
    "    student_t[tagged_bigram] = math.sqrt(count) \n",
    "    student_t[tagged_bigram] -= unigram_counter[bigram[0]] * unigram_counter[bigram[1]] / n_bigrams / math.sqrt(count)"
   ]
  },
  {
   "cell_type": "code",
   "execution_count": 114,
   "metadata": {},
   "outputs": [
    {
     "name": "stdout",
     "output_type": "stream",
     "text": [
      "              bigram              |  count  |  t-test  \n",
      "     ('storied', 'leathers')      |    1    |  0.6   \n",
      "    ('winless', 'norwegians')     |    1    |  0.1   \n",
      "    ('eolas', 'technologies')     |    1    |  -0.4  \n",
      "       ('milton', 'keynes')       |    1    |  -5.4  \n",
      "      ('fervent', 'indians')      |    1    |  -6.5  \n",
      "      ('mentor', 'graphics')      |    1    |  -9.8  \n",
      "     ('sun', 'microsystems')      |    1    | -36.9  \n",
      "      ('houston', 'texans')       |    1    | -42.4  \n",
      "     ('glow', 'technologies')     |    1    | -47.9  \n",
      "        ('fair', 'isaac')         |    1    | -95.9  \n",
      "  ('rank-and-file', 'democrats')  |    1    | -127.0 \n",
      "       ('south', 'koreans')       |   10    | -271.4 \n",
      "      ('general', 'motors')       |   55    | -284.2 \n",
      "       ('pig', 'democrats')       |    1    | -330.7 \n",
      "     ('liberal', 'democrats')     |   46    | -375.9 \n",
      "      ('winter', 'olympics')      |    3    | -482.0 \n",
      "     ('divide', 'democrats')      |    1    | -516.9 \n",
      "       ('south', 'koreans')       |    2    | -612.5 \n",
      "    ('christian', 'democrats')    |   12    | -638.2 \n",
      "     ('ousted', 'democrats')      |    1    | -662.4 \n"
     ]
    }
   ],
   "source": [
    "most_common = sorted(student_t, key=student_t.get, reverse=True)[:20]\n",
    "print(\"              bigram              |  count  |  t-test  \")\n",
    "for tagged_bigram in most_common:\n",
    "    bigram, _ = zip(*tagged_bigram)\n",
    "    print(f\"{repr(bigram):^34}|{repr(tagged_bigram_counter[tagged_bigram]):^9}|{student_t[tagged_bigram]:^8.1f}\")"
   ]
  },
  {
   "cell_type": "code",
   "execution_count": 119,
   "metadata": {},
   "outputs": [
    {
     "name": "stdout",
     "output_type": "stream",
     "text": [
      "                        trigram                        |  count  |  t-test  \n",
      "           ('storied', 'leathers', 'inc.')            |    1    |  0.1   \n",
      "          ('pro-eu', 'liberal', 'democrats')          |    1    |  -9.5  \n",
      "            ('fervent', 'indians', 'fan')             |    1    | -16.6  \n",
      "    ('french-speaking', 'christian', 'democrats')     |    1    | -43.9  \n",
      "       ('centre-left', 'liberal', 'democrats')        |    1    | -62.0  \n",
      "              ('koreans', 'amy', 'yang')              |    1    | -79.5  \n",
      "            ('sun', 'microsystems', 'inc')            |    1    | -87.7  \n",
      "      ('centre-right', 'christian', 'democrats')      |    1    | -106.9 \n",
      "             ('europeans', 'weren', \"'t\")             |    1    | -173.6 \n",
      "        ('detroit-based', 'general', 'motors')        |    1    | -177.1 \n",
      "        ('center-left', 'social', 'democrats')        |    1    | -193.2 \n",
      "           ('graphics', 'corp.', 'cadence')           |    1    | -217.0 \n",
      "              ('fair', 'isaac', 'corp.')              |    1    | -225.8 \n",
      "            ('general', 'motors', 'corp.')            |   24    |-1028.8 \n",
      "         ('teachers', 'retirement', 'system')         |    1    |-1551.4 \n",
      "            ('limited', 'brands', 'inc.')             |    1    |-1641.1 \n",
      "            ('general', 'motors', 'corp')             |    6    |-2064.9 \n",
      "      ('conservative', 'christian', 'democrats')      |    2    |-2188.1 \n",
      "        ('public', 'utilities', 'commission')         |    3    |-2399.6 \n",
      "             ('general', 'motors', 'co.')             |    4    |-2530.0 \n"
     ]
    }
   ],
   "source": [
    "filtered_trigram_counter = Counter()\n",
    "for tagged_trigram, count in tagged_trigram_counter.items():\n",
    "    _, tags = zip(*tagged_trigram)\n",
    "    if tags in tag_combs:\n",
    "        filtered_trigram_counter[tagged_trigram] = count\n",
    "        \n",
    "student_t = dict()\n",
    "n_trigrams = sum(filtered_trigram_counter.values())\n",
    "for tagged_trigram, count in filtered_trigram_counter.items():\n",
    "    trigram, _ = zip(*tagged_trigram)\n",
    "    student_t[tagged_trigram] = math.sqrt(count) \n",
    "    student_t[tagged_trigram] -= unigram_counter[trigram[0]] * unigram_counter[trigram[1]] / n_trigrams / math.sqrt(count)\n",
    "    \n",
    "most_common = sorted(student_t, key=student_t.get, reverse=True)[:20]\n",
    "print(\"                        trigram                        |  count  |  t-test  \")\n",
    "for tagged_trigram in most_common:\n",
    "    trigram, _ = zip(*tagged_trigram)\n",
    "    print(f\"{repr(trigram):^54}|{repr(tagged_trigram_counter[tagged_trigram]):^9}|{student_t[tagged_trigram]:^8.1f}\")"
   ]
  }
 ],
 "metadata": {
  "kernelspec": {
   "display_name": "Python 3",
   "language": "python",
   "name": "python3"
  },
  "language_info": {
   "codemirror_mode": {
    "name": "ipython",
    "version": 3
   },
   "file_extension": ".py",
   "mimetype": "text/x-python",
   "name": "python",
   "nbconvert_exporter": "python",
   "pygments_lexer": "ipython3",
   "version": "3.7.4"
  }
 },
 "nbformat": 4,
 "nbformat_minor": 2
}
