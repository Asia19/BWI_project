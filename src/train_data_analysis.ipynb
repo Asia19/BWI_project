{
 "cells": [
  {
   "cell_type": "code",
   "execution_count": 1,
   "metadata": {},
   "outputs": [],
   "source": [
    "import nltk\n",
    "import re\n",
    "from collections import Counter\n",
    "from itertools import islice\n",
    "import io"
   ]
  },
  {
   "cell_type": "markdown",
   "metadata": {},
   "source": [
    "# train data preprocessing"
   ]
  },
  {
   "cell_type": "code",
   "execution_count": null,
   "metadata": {},
   "outputs": [],
   "source": [
    "punctuations = string.punctuation\n",
    "stop_words = set(stopwords.words('english'))\n",
    "word2idx = dict()\n",
    "\n",
    "print(f\"working on kth line  |  time  \")\n",
    "with io.open('../data/train_v2.txt', encoding='utf-8', mode='rt') as infile, \\\n",
    "    io.open('../data/train_v2-preprocessed.txt', encoding='utf-8', mode='wt') as outfile, \\\n",
    "    io.open('../data/train_v2-preprocessed_sw.txt', encoding='utf-8', mode='wt') as outfile_sw, \\\n",
    "    io.open('../data/train_v2-idx.txt', encoding='utf-8', mode='wt') as outfile_idx, \\\n",
    "    io.open('../data/train_v2-idx-sw.txt', encoding='utf-8', mode='wt') as outfile_idx_sw:\n",
    "    start = time.time()\n",
    "    n_line = 1\n",
    "    n_words = 0\n",
    "    for line in infile:\n",
    "        if not (n_line % 1000):\n",
    "            print(f\"{n_line // 1000:^21}|{time.time()-start:^10.0f}\", end='\\r')            \n",
    "        sentence = line.rstrip().strip('\"').lower()        \n",
    "        sentence = nltk.word_tokenize(sentence)\n",
    "        sentence_idx = []\n",
    "        clean_sentence = []\n",
    "        clean_sentence_idx = []\n",
    "        for word in sentence:\n",
    "            if not word in word2idx:\n",
    "                word2idx[word] = n_words\n",
    "                n_words += 1\n",
    "            sentence_idx.append(word2idx[word])\n",
    "            if word not in stop_words and word not in punctuations:\n",
    "                clean_sentence.append(word)\n",
    "                clean_sentence_idx.append(word2idx[word])\n",
    "        if sentence == ['']:\n",
    "            continue\n",
    "        outfile.write(' '.join(sentence)+'\\n')\n",
    "        outfile_idx.write(','.join(map(str,sentence_idx))+'\\n')\n",
    "        if not clean_sentence:\n",
    "            continue\n",
    "        outfile_sw.write(' '.join(clean_sentence)+'\\n')\n",
    "        outfile_idx_sw.write(','.join(map(str,clean_sentence_idx))+'\\n')\n",
    "        n_line += 1             "
   ]
  },
  {
   "cell_type": "markdown",
   "metadata": {},
   "source": [
    "## split the train file into smaller ones"
   ]
  },
  {
   "cell_type": "code",
   "execution_count": 8,
   "metadata": {},
   "outputs": [],
   "source": [
    "# splitting for multiprocessing\n",
    "with io.open('../data/train_v2-preprocessed.txt', encoding='utf-8', mode='rt') as infile_sw:\n",
    "    line = infile_sw.readline()\n",
    "    for i in range(1, 4):\n",
    "        n_line = 1\n",
    "        with io.open(f'../data/new_data/train_v2-preprocessed-{i}.txt', encoding='utf-8', mode='wt') as outfile_sw:\n",
    "            while n_line <= 10500000 and line:\n",
    "                outfile_sw.write(line)\n",
    "                line = infile_sw.readline()\n",
    "                n_line += 1"
   ]
  }
 ],
 "metadata": {
  "kernelspec": {
   "display_name": "Python 3",
   "language": "python",
   "name": "python3"
  },
  "language_info": {
   "codemirror_mode": {
    "name": "ipython",
    "version": 3
   },
   "file_extension": ".py",
   "mimetype": "text/x-python",
   "name": "python",
   "nbconvert_exporter": "python",
   "pygments_lexer": "ipython3",
   "version": "3.7.4"
  }
 },
 "nbformat": 4,
 "nbformat_minor": 2
}
