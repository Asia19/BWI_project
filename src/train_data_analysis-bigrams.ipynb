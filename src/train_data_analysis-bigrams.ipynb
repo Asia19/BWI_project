{
 "cells": [
  {
   "cell_type": "code",
   "execution_count": 5,
   "metadata": {},
   "outputs": [],
   "source": [
    "import psycopg2\n",
    "import sys\n",
    "sys.path.append('..')\n",
    "from utils.visualization import plot_top_counter_train\n",
    "from utils.another import get_decoding"
   ]
  },
  {
   "cell_type": "code",
   "execution_count": 17,
   "metadata": {},
   "outputs": [],
   "source": [
    "conn = psycopg2.connect(host=\"localhost\", database=\"postgres\", user=\"postgres\", password=\"igsvemina1201\")\n",
    "cur = conn.cursor()"
   ]
  },
  {
   "cell_type": "code",
   "execution_count": 18,
   "metadata": {},
   "outputs": [
    {
     "name": "stdout",
     "output_type": "stream",
     "text": [
      "number of all bigram in train corpus: 38065758\n"
     ]
    }
   ],
   "source": [
    "query0 = '''\n",
    "    SELECT count(*) from tagged_bigram_counter\n",
    "    '''\n",
    "cur.execute(query0)\n",
    "print(f'number of all bigram in train corpus: {cur.fetchone()[0]}')"
   ]
  },
  {
   "cell_type": "markdown",
   "metadata": {},
   "source": [
    "# POS-TAG analysis"
   ]
  },
  {
   "cell_type": "code",
   "execution_count": 19,
   "metadata": {},
   "outputs": [],
   "source": [
    "query1 = \"SELECT first_tag, second_tag, sum(tagged_bigram_count) as tags_count \\\n",
    "    FROM filtered_tagged_bigram_counter \\\n",
    "    GROUP BY (first_tag,second_tag) \\\n",
    "    ORDER BY tags_count DESC \\\n",
    "    LIMIT %(n_most_common)s;\"\n",
    "\n",
    "query2 = \"SELECT first_gram, second_gram, tagged_bigram_count \\\n",
    "    FROM filtered_tagged_bigram_counter \\\n",
    "    WHERE first_tag = %(first_tag)s and second_tag = %(second_tag)s \\\n",
    "    ORDER BY tagged_bigram_count DESC \\\n",
    "    LIMIT %(n_most_common)s;\""
   ]
  },
  {
   "cell_type": "code",
   "execution_count": 20,
   "metadata": {},
   "outputs": [
    {
     "name": "stdout",
     "output_type": "stream",
     "text": [
      "JJR, Adjective, comparative\n",
      "NNS, Noun, plural\n",
      "JJS, Adjective, superlative\n",
      "NN, Noun, singular or mass\n",
      "JJ, Adjective\n"
     ]
    },
    {
     "data": {
      "image/png": "[encoded data removed]",
      "text/plain": [
       "<Figure size 720x720 with 1 Axes>"
      ]
     },
     "metadata": {
      "needs_background": "light"
     },
     "output_type": "display_data"
    }
   ],
   "source": [
    "cur.execute(query1,{'n_most_common':10})\n",
    "most_common_tags = cur.fetchall()\n",
    "first_tags, second_tags, _ = zip(*most_common_tags)\n",
    "decoded_tags = get_decoding(set(first_tags+second_tags))\n",
    "for tag in decoded_tags:\n",
    "    print(tag)\n",
    "plot_top_counter_train(most_common_tags)"
   ]
  },
  {
   "cell_type": "code",
   "execution_count": 21,
   "metadata": {},
   "outputs": [
    {
     "name": "stdout",
     "output_type": "stream",
     "text": [
      " MOST COMMON NGRAM FOR TAGS NN NN\n",
      "('barack', 'obama', 102408)\n",
      "('health', 'care', 84637)\n",
      "('i', 'don', 80936)\n",
      "('wall', 'street', 62281)\n",
      "('web', 'site', 55670)\n",
      "('climate', 'change', 51754)\n",
      "('vice', 'president', 48957)\n",
      "('south', 'africa', 45010)\n",
      "('president', 'barack', 44005)\n",
      "('president', 'obama', 43593)\n",
      " MOST COMMON NGRAM FOR TAGS JJ NN\n",
      "('new', 'york', 357822)\n",
      "('last', 'year', 277278)\n",
      "('last', 'week', 170112)\n",
      "('prime', 'minister', 138932)\n",
      "('last', 'month', 113458)\n",
      "('white', 'house', 107802)\n",
      "('first', 'time', 100165)\n",
      "('chief', 'executive', 94216)\n",
      "('next', 'year', 71877)\n",
      "('north', 'korea', 47075)\n",
      " MOST COMMON NGRAM FOR TAGS NN NNS\n",
      "('los', 'angeles', 122872)\n",
      "('interest', 'rates', 33330)\n",
      "('oil', 'prices', 28362)\n",
      "('york', 'times', 27205)\n",
      "('security', 'forces', 26837)\n",
      "('police', 'officers', 24144)\n",
      "('told', 'reuters', 18826)\n",
      "('dow', 'jones', 18162)\n",
      "('family', 'members', 15879)\n",
      "('capital', 'markets', 14418)\n",
      " MOST COMMON NGRAM FOR TAGS JJ NNS\n",
      "('united', 'states', 255761)\n",
      "('human', 'rights', 51774)\n",
      "('united', 'nations', 38586)\n",
      "('recent', 'years', 35078)\n",
      "('many', 'people', 31051)\n",
      "('few', 'years', 27002)\n",
      "('young', 'people', 26562)\n",
      "('new', 'orleans', 25712)\n",
      "('forward-looking', 'statements', 23827)\n",
      "('few', 'days', 21644)\n",
      " MOST COMMON NGRAM FOR TAGS NNS NN\n",
      "('police', 'officer', 18755)\n",
      "('police', 'chief', 12923)\n",
      "('police', 'spokesman', 11154)\n",
      "('kansas', 'city', 10879)\n",
      "('police', 'station', 9963)\n",
      "('mrs.', 'clinton', 9863)\n",
      "('appeals', 'court', 8301)\n",
      "('mexico', 'city', 8087)\n",
      "('angeles', 'county', 6869)\n",
      "('notre', 'dame', 6465)\n",
      " MOST COMMON NGRAM FOR TAGS NNS NNS\n",
      "('las', 'vegas', 26276)\n",
      "('rights', 'groups', 8408)\n",
      "('media', 'reports', 7377)\n",
      "('angeles', 'times', 7169)\n",
      "('des', 'moines', 4013)\n",
      "('rights', 'activists', 3682)\n",
      "('angeles', 'lakers', 3242)\n",
      "('media', 'outlets', 2968)\n",
      "('angeles', 'police', 2857)\n",
      "('rights', 'abuses', 2787)\n",
      " MOST COMMON NGRAM FOR TAGS JJS NN\n",
      "('west', 'bank', 19343)\n",
      "('west', 'virginia', 11118)\n",
      "('west', 'ham', 9136)\n",
      "('best', 'way', 8284)\n",
      "('highest', 'level', 7884)\n",
      "('lowest', 'level', 7037)\n",
      "('west', 'coast', 6816)\n",
      "('west', 'london', 6166)\n",
      "('most', 'part', 4196)\n",
      "('best', 'friend', 3990)\n",
      " MOST COMMON NGRAM FOR TAGS JJR NN\n",
      "('more', 'information', 32013)\n",
      "('more', 'money', 13350)\n",
      "('more', 'time', 13228)\n",
      "('higher', 'education', 9286)\n",
      "('greater', 'manchester', 5780)\n",
      "('lower', 'house', 3394)\n",
      "('younger', 'brother', 3049)\n",
      "('higher', 'risk', 2734)\n",
      "('more', 'attention', 2666)\n",
      "('longer', 'term', 2575)\n",
      " MOST COMMON NGRAM FOR TAGS JJS NNS\n",
      "('most', 'people', 15224)\n",
      "('west', 'midlands', 6113)\n",
      "('most', 'americans', 3720)\n",
      "('most', 'cases', 3075)\n",
      "('best', 'interests', 2729)\n",
      "('latest', 'figures', 2389)\n",
      "('highest', 'levels', 2146)\n",
      "('best', 'practices', 1979)\n",
      "('best', 'players', 1904)\n",
      "('most', 'analysts', 1813)\n",
      " MOST COMMON NGRAM FOR TAGS JJR NNS\n",
      "('more', 'details', 4064)\n",
      "('older', 'people', 3968)\n",
      "('higher', 'prices', 3201)\n",
      "('higher', 'taxes', 2402)\n",
      "('smaller', 'companies', 2333)\n",
      "('lower', 'prices', 2277)\n",
      "('higher', 'rates', 2246)\n",
      "('higher', 'levels', 2029)\n",
      "('fewer', 'people', 2019)\n",
      "('higher', 'costs', 1644)\n"
     ]
    }
   ],
   "source": [
    "for tag in most_common_tags:\n",
    "    cur.execute(query2, {'first_tag':tag[0],'second_tag':tag[1],'n_most_common':10})\n",
    "    most_common_ngrams = cur.fetchall()\n",
    "    print(f' MOST COMMON NGRAM FOR TAGS', *tag[:-1])\n",
    "    for ngram in most_common_ngrams:\n",
    "        print(ngram)"
   ]
  },
  {
   "cell_type": "markdown",
   "metadata": {},
   "source": [
    "# COLLOCATIONS"
   ]
  },
  {
   "cell_type": "markdown",
   "metadata": {},
   "source": [
    "### T-TEST"
   ]
  },
  {
   "cell_type": "code",
   "execution_count": 22,
   "metadata": {},
   "outputs": [],
   "source": [
    "query3 = '''\n",
    "    SELECT * FROM bigram_student_t limit %(n_most_common)s'''\n",
    "query4 = '''\n",
    "    SELECT * FROM bigram_student_t ORDER BY student_t limit %(n_most_common)s'''"
   ]
  },
  {
   "cell_type": "code",
   "execution_count": 23,
   "metadata": {},
   "outputs": [
    {
     "name": "stdout",
     "output_type": "stream",
     "text": [
      "Bigrams with max T-test value:\n",
      "('of', 'the', 'IN', 'DT', 1555.59598453628)\n",
      "('in', 'the', 'IN', 'DT', 1521.17768826302)\n",
      "(',', '``', ',', '``', 1283.37162010203)\n",
      "('on', 'the', 'IN', 'DT', 913.699889199494)\n",
      "(',', 'but', ',', 'CC', 910.246443923727)\n",
      "(',', 'which', ',', 'WDT', 903.228640400838)\n",
      "('to', 'be', 'TO', 'VB', 897.366555011852)\n",
      "('said', '.', 'VBD', '.', 872.3608500006)\n",
      "('for', 'the', 'IN', 'DT', 867.675709727457)\n",
      "('at', 'the', 'IN', 'DT', 862.329977730739)\n"
     ]
    }
   ],
   "source": [
    "cur.execute(query3,{'n_most_common':10})\n",
    "most_common_tags = cur.fetchall()\n",
    "print('Bigrams with max T-test value:')\n",
    "for tag in most_common_tags:\n",
    "    print(tag)"
   ]
  },
  {
   "cell_type": "code",
   "execution_count": 24,
   "metadata": {},
   "outputs": [
    {
     "name": "stdout",
     "output_type": "stream",
     "text": [
      "Bigrams with min T-test value:\n",
      "('the', \"'s\", 'DT', 'POS', -144040.042280984)\n",
      "('of', \"'s\", 'IN', 'POS', -135949.05344934)\n",
      "('the', '.', 'DT', '.', -127944.91986457)\n",
      "('the', 'and', 'DT', 'CC', -101162.138791064)\n",
      "('the', 'to', 'DT', 'TO', -82817.9473088413)\n",
      "('the', ',', 'DT', ',', -82407.1708975399)\n",
      "('and', \"'s\", 'CC', 'POS', -72939.5635323879)\n",
      "('the', 'of', 'DT', 'IN', -61942.3990569159)\n",
      "('to', 'of', 'TO', 'IN', -54733.9742951788)\n",
      "('for', \"'s\", 'IN', 'POS', -52841.3934265577)\n"
     ]
    }
   ],
   "source": [
    "cur.execute(query4,{'n_most_common':10})\n",
    "most_uncommon_tags = cur.fetchall()\n",
    "print('Bigrams with min T-test value:')\n",
    "for tag in most_uncommon_tags:\n",
    "    print(tag)"
   ]
  },
  {
   "cell_type": "markdown",
   "metadata": {},
   "source": [
    "### MAX-likelihood test"
   ]
  },
  {
   "cell_type": "code",
   "execution_count": 25,
   "metadata": {},
   "outputs": [],
   "source": [
    "query5 = '''\n",
    "    SELECT * FROM bigram_max_likelihood limit %(n_most_common)s'''\n",
    "query6 = '''\n",
    "    SELECT * FROM bigram_max_likelihood ORDER BY max_likelihood limit %(n_most_common)s'''"
   ]
  },
  {
   "cell_type": "code",
   "execution_count": 26,
   "metadata": {},
   "outputs": [
    {
     "name": "stdout",
     "output_type": "stream",
     "text": [
      "Bigrams with max MAX-likelihood value:\n",
      "('nyi', 'nyi', 'NNS', 'NNS', 11.0437887342104)\n",
      "('nicolae', 'ceausescu', 'NNS', 'VBP', 10.8291185692212)\n",
      "('nnamdi', 'asomugha', 'NNS', 'VBP', 10.7189558238738)\n",
      "('natascha', 'kampusch', 'NNS', 'VBP', 10.7096822797449)\n",
      "('geno', 'auriemma', 'NNS', 'VBP', 10.6261046673426)\n",
      "('miki', 'ando', 'NNS', 'VBP', 10.6158855021609)\n",
      "('vuk', 'jeremic', 'NNS', 'VBP', 10.5752676512527)\n",
      "('masamichi', 'adachi', 'NNS', 'VBP', 10.5209099889301)\n",
      "('minea', 'blomqvist', 'NNS', 'VBP', 10.4804813318745)\n",
      "('nik', 'antropov', 'NNS', 'VBP', 10.4542847798265)\n"
     ]
    }
   ],
   "source": [
    "cur.execute(query5,{'n_most_common':10})\n",
    "most_common_tags = cur.fetchall()\n",
    "print('Bigrams with max MAX-likelihood value:')\n",
    "for tag in most_common_tags:\n",
    "    print(tag)"
   ]
  },
  {
   "cell_type": "code",
   "execution_count": 27,
   "metadata": {},
   "outputs": [
    {
     "name": "stdout",
     "output_type": "stream",
     "text": [
      "Bigrams with min MAX-likelihood value:\n",
      "('of', \"'s\", 'IN', 'POS', -5.13337938266827)\n",
      "('the', \"'s\", 'DT', 'POS', -4.80900497991861)\n",
      "('for', \"'s\", 'IN', 'POS', -4.72298248018409)\n",
      "('and', \"'s\", 'CC', 'POS', -4.62441284562445)\n",
      "('has', \"'s\", 'VBZ', 'POS', -4.37030301266493)\n",
      "('is', \"'s\", 'VBZ', 'POS', -4.34636592802184)\n",
      "('mr', 'the', 'NN', 'DT', -4.28170739578698)\n",
      "('with', \"'s\", 'IN', 'POS', -4.26131055552059)\n",
      "('$', 'the', '$', 'DT', -4.2506856956663)\n",
      "('an', 'with', 'DT', 'IN', -4.21284151091966)\n"
     ]
    }
   ],
   "source": [
    "cur.execute(query6,{'n_most_common':10})\n",
    "most_uncommon_tags = cur.fetchall()\n",
    "print('Bigrams with min MAX-likelihood value:')\n",
    "for tag in most_uncommon_tags:\n",
    "    print(tag)"
   ]
  },
  {
   "cell_type": "markdown",
   "metadata": {},
   "source": [
    "### CHI-squared test"
   ]
  },
  {
   "cell_type": "code",
   "execution_count": null,
   "metadata": {},
   "outputs": [],
   "source": [
    "query7 = '''\n",
    "    SELECT * FROM bigram_chi_cquared limit %(n_most_common)s'''"
   ]
  },
  {
   "cell_type": "code",
   "execution_count": null,
   "metadata": {},
   "outputs": [],
   "source": [
    "cur.execute(query7,{'n_most_common':10})\n",
    "most_common_tags = cur.fetchall()\n",
    "print('Bigrams with min CHI-squared value:')\n",
    "for tag in most_common_tags:\n",
    "    print(tag)"
   ]
  },
  {
   "cell_type": "code",
   "execution_count": 15,
   "metadata": {},
   "outputs": [],
   "source": [
    "conn.commit()\n",
    "cur.close()"
   ]
  }
 ],
 "metadata": {
  "kernelspec": {
   "display_name": "Python 3",
   "language": "python",
   "name": "python3"
  },
  "language_info": {
   "codemirror_mode": {
    "name": "ipython",
    "version": 3
   },
   "file_extension": ".py",
   "mimetype": "text/x-python",
   "name": "python",
   "nbconvert_exporter": "python",
   "pygments_lexer": "ipython3",
   "version": "3.7.4"
  }
 },
 "nbformat": 4,
 "nbformat_minor": 2
}
