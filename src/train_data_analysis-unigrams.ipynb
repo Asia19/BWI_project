{
 "cells": [
  {
   "cell_type": "code",
   "execution_count": 1,
   "metadata": {},
   "outputs": [
    {
     "name": "stderr",
     "output_type": "stream",
     "text": [
      "C:\\Users\\persi\\Anaconda3\\lib\\site-packages\\statsmodels\\tools\\_testing.py:19: FutureWarning: pandas.util.testing is deprecated. Use the functions in the public API at pandas.testing instead.\n",
      "  import pandas.util.testing as tm\n"
     ]
    }
   ],
   "source": [
    "import sys\n",
    "sys.path.append('..')\n",
    "from utils.visualization import plot_top_counter_train\n",
    "from utils.another import get_decoding\n",
    "import psycopg2"
   ]
  },
  {
   "cell_type": "code",
   "execution_count": 2,
   "metadata": {},
   "outputs": [],
   "source": [
    "conn = psycopg2.connect(host=\"localhost\", database=\"postgres\", user=\"postgres\", password=\"igsvemina1201\")\n",
    "cur = conn.cursor()"
   ]
  },
  {
   "cell_type": "code",
   "execution_count": 3,
   "metadata": {},
   "outputs": [
    {
     "name": "stdout",
     "output_type": "stream",
     "text": [
      "number of all unigram in train corpus: 3207615\n"
     ]
    }
   ],
   "source": [
    "query0 = '''\n",
    "    SELECT count(*) from tagged_unigram_counter_sw\n",
    "    '''\n",
    "cur.execute(query0)\n",
    "print(f'number of all unigram in train corpus: {cur.fetchone()[0]}')"
   ]
  },
  {
   "cell_type": "markdown",
   "metadata": {},
   "source": [
    "# POS-TAG analysis"
   ]
  },
  {
   "cell_type": "code",
   "execution_count": 4,
   "metadata": {},
   "outputs": [],
   "source": [
    "query1 = \"SELECT first_tag, sum(tagged_unigram_count) as tag_count \\\n",
    "    FROM tagged_unigram_counter_sw \\\n",
    "    GROUP BY first_tag \\\n",
    "    ORDER BY tag_count DESC \\\n",
    "    LIMIT %(n_most_common)s;\"\n",
    "\n",
    "query2 = \"SELECT first_gram, tagged_unigram_count \\\n",
    "    FROM tagged_unigram_counter_sw \\\n",
    "    WHERE first_tag = %(first_tag)s \\\n",
    "    ORDER BY tagged_unigram_count DESC \\\n",
    "    LIMIT %(n_most_common)s;\""
   ]
  },
  {
   "cell_type": "code",
   "execution_count": 21,
   "metadata": {},
   "outputs": [],
   "source": [
    "from collections import Counter\n",
    "import matplotlib.pyplot as plt\n",
    "import seaborn as sns"
   ]
  },
  {
   "cell_type": "code",
   "execution_count": 29,
   "metadata": {},
   "outputs": [],
   "source": [
    "def plot_top_counter_train(top, n=1):\n",
    "    x, y = zip(*map(lambda x: (', '.join(x[:-1]),x[-1]), top))\n",
    "    plt.figure(figsize=[10,10])\n",
    "    plt.xticks(fontsize=13)\n",
    "    plt.yticks(fontsize=13)\n",
    "    sns.barplot(x=list(y),y=list(x))"
   ]
  },
  {
   "cell_type": "code",
   "execution_count": 31,
   "metadata": {},
   "outputs": [
    {
     "name": "stdout",
     "output_type": "stream",
     "text": [
      "VBD, Verb, past tense\n",
      "NN, Noun, singular or mass\n",
      "CD, Cardinal number\n",
      "RB, Adverb\n",
      "NNS, Noun, plural\n",
      "VBN, Verb, past participle\n",
      "JJ, Adjective\n",
      "VBG, Verb, gerund or present participle\n",
      "VBP, Verb, non-3rd person singular present\n",
      "POS, Possessive ending\n"
     ]
    },
    {
     "data": {
      "image/png": "[encoded data removed]",
      "text/plain": [
       "<Figure size 720x720 with 1 Axes>"
      ]
     },
     "metadata": {
      "needs_background": "light"
     },
     "output_type": "display_data"
    }
   ],
   "source": [
    "cur.execute(query1,{'n_most_common':10})\n",
    "most_common_tags = cur.fetchall()\n",
    "tags, _ = zip(*most_common_tags)\n",
    "decoded_tags = get_decoding(set(tags))\n",
    "for tag in decoded_tags:\n",
    "    print(tag)\n",
    "plot_top_counter_train(most_common_tags)"
   ]
  },
  {
   "cell_type": "code",
   "execution_count": 6,
   "metadata": {},
   "outputs": [
    {
     "name": "stdout",
     "output_type": "stream",
     "text": [
      " MOST COMMON NGRAM FOR TAG NN\n",
      "('year', 1140885)\n",
      "('time', 853095)\n",
      "('government', 769131)\n",
      "('world', 665798)\n",
      "('president', 624773)\n",
      "('percent', 608898)\n",
      "('company', 565773)\n",
      "('state', 550085)\n",
      "('week', 521849)\n",
      "('home', 476024)\n",
      " MOST COMMON NGRAM FOR TAG JJ\n",
      "('new', 1488393)\n",
      "('last', 1077879)\n",
      "('many', 620610)\n",
      "('first', 583761)\n",
      "('u.s.', 580431)\n",
      "('former', 389800)\n",
      "('second', 380654)\n",
      "('national', 376346)\n",
      "('public', 362478)\n",
      "('american', 344591)\n",
      " MOST COMMON NGRAM FOR TAG NNS\n",
      "('people', 1101738)\n",
      "('years', 874186)\n",
      "('officials', 388334)\n",
      "('states', 372586)\n",
      "('children', 333356)\n",
      "('months', 330192)\n",
      "('days', 296007)\n",
      "('times', 284856)\n",
      "('points', 257326)\n",
      "('women', 252284)\n",
      " MOST COMMON NGRAM FOR TAG VBD\n",
      "('said', 4309374)\n",
      "('told', 419213)\n",
      "('made', 343086)\n",
      "('found', 273446)\n",
      "('reported', 265163)\n",
      "('took', 262585)\n",
      "('came', 255636)\n",
      "('left', 255443)\n",
      "('went', 201202)\n",
      "('added', 190095)\n",
      " MOST COMMON NGRAM FOR TAG CD\n",
      "('one', 1457459)\n",
      "('two', 1119500)\n",
      "('million', 672639)\n",
      "('three', 631484)\n",
      "('four', 382520)\n",
      "('billion', 359437)\n",
      "('10', 339686)\n",
      "('five', 319346)\n",
      "('1', 263576)\n",
      "('six', 259134)\n",
      " MOST COMMON NGRAM FOR TAG RB\n",
      "('also', 1223983)\n",
      "('even', 551708)\n",
      "('still', 473618)\n",
      "('first', 445026)\n",
      "('back', 418377)\n",
      "('well', 398506)\n",
      "('however', 268863)\n",
      "('already', 253008)\n",
      "('never', 239581)\n",
      "('far', 237151)\n",
      " MOST COMMON NGRAM FOR TAG VBG\n",
      "('including', 436488)\n",
      "('according', 344358)\n",
      "('going', 318078)\n",
      "('making', 183301)\n",
      "('taking', 174327)\n",
      "('working', 174061)\n",
      "('saying', 173351)\n",
      "('trying', 164227)\n",
      "('following', 162032)\n",
      "('using', 154176)\n",
      " MOST COMMON NGRAM FOR TAG VBP\n",
      "('say', 396337)\n",
      "('make', 288309)\n",
      "(\"'re\", 261271)\n",
      "(\"'ve\", 192965)\n",
      "('want', 166854)\n",
      "(\"'m\", 166566)\n",
      "('go', 155473)\n",
      "('know', 144144)\n",
      "('think', 133687)\n",
      "('see', 130314)\n",
      " MOST COMMON NGRAM FOR TAG VBN\n",
      "('used', 210388)\n",
      "('given', 203158)\n",
      "('taken', 202165)\n",
      "('set', 195195)\n",
      "('seen', 190505)\n",
      "('made', 188320)\n",
      "('called', 182164)\n",
      "('expected', 172920)\n",
      "('known', 164418)\n",
      "('based', 154562)\n",
      " MOST COMMON NGRAM FOR TAG POS\n",
      "(\"'s\", 6842323)\n",
      "(\"'t\", 589052)\n",
      "(\"'brien\", 4515)\n",
      "(\"'d\", 3548)\n",
      "(\"'neal\", 3030)\n",
      "(\"'connor\", 2167)\n",
      "(\"'neill\", 1953)\n",
      "(\"'ite\", 1547)\n",
      "(\"'aquila\", 1432)\n",
      "(\"'malley\", 1208)\n"
     ]
    }
   ],
   "source": [
    "for tag in most_common_tags:\n",
    "    cur.execute(query2, {'first_tag':tag[0],'n_most_common':10})\n",
    "    most_common_ngrams = cur.fetchall()\n",
    "    print(f' MOST COMMON NGRAM FOR TAG', *tag[:-1])\n",
    "    for ngram in most_common_ngrams:\n",
    "        print(ngram)\n",
    "#         plot_top_counter_train(most_common_ngrams)"
   ]
  },
  {
   "cell_type": "code",
   "execution_count": 10,
   "metadata": {},
   "outputs": [],
   "source": [
    "conn.commit()\n",
    "cur.close()"
   ]
  }
 ],
 "metadata": {
  "kernelspec": {
   "display_name": "Python 3",
   "language": "python",
   "name": "python3"
  },
  "language_info": {
   "codemirror_mode": {
    "name": "ipython",
    "version": 3
   },
   "file_extension": ".py",
   "mimetype": "text/x-python",
   "name": "python",
   "nbconvert_exporter": "python",
   "pygments_lexer": "ipython3",
   "version": "3.7.4"
  }
 },
 "nbformat": 4,
 "nbformat_minor": 2
}
