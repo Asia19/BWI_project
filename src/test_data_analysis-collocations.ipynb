{
 "cells": [
  {
   "cell_type": "code",
   "execution_count": 1,
   "metadata": {
    "collapsed": true
   },
   "outputs": [],
   "source": [
    "import nltk\n",
    "import re\n",
    "from collections import Counter\n",
    "from itertools import islice\n",
    "import pickle\n",
    "import math"
   ]
  },
  {
   "cell_type": "markdown",
   "metadata": {},
   "source": [
    "## test corpus"
   ]
  },
  {
   "cell_type": "code",
   "execution_count": 2,
   "metadata": {},
   "outputs": [],
   "source": [
    "with open('../data/unigram_counter_test_str.pickle', 'rb') as unigram_file, \\\n",
    "        open('../data/bigram_counter_test_str.pickle', 'rb') as bigram_file, \\\n",
    "        open('../data/trigram_counter_test_str.pickle', 'rb') as trigram_file,\\\n",
    "        open('../data/tagged_unigrams_counter_test_str.pickle', 'rb') as tagged_unigram_file, \\\n",
    "        open('../data/tagged_bigrams_counter_test_str.pickle', 'rb') as tagged_bigram_file, \\\n",
    "        open('../data/tagged_trigrams_counter_test_str.pickle', 'rb') as tagged_trigram_file:\n",
    "    unigram_counter = pickle.load(unigram_file)\n",
    "    bigram_counter = pickle.load(bigram_file)\n",
    "    trigram_counter = pickle.load(trigram_file)    \n",
    "    tagged_unigram_counter = pickle.load(tagged_unigram_file)\n",
    "    tagged_bigram_counter = pickle.load(tagged_bigram_file)\n",
    "    tagged_trigram_counter = pickle.load(tagged_trigram_file)    "
   ]
  },
  {
   "cell_type": "code",
   "execution_count": 3,
   "metadata": {},
   "outputs": [],
   "source": [
    "test_corpus = []\n",
    "with open('../data/test_v2-preprocessed.txt','rt') as file:\n",
    "    for line in file:\n",
    "        test_corpus.append(line.rstrip().split(' '))"
   ]
  },
  {
   "cell_type": "markdown",
   "metadata": {},
   "source": [
    "# COLLOCATIONS"
   ]
  },
  {
   "cell_type": "code",
   "execution_count": 4,
   "metadata": {},
   "outputs": [],
   "source": [
    "# JJ - adjective or numeral, JJR  - adjective, JJS - adjective, superlative\n",
    "adjs = ['JJ','JJR','JJS']\n",
    "# NN noun, common; NNP - noun, proper, sing.; NNPS - noun, proper, plural; NNS - noun, common, plural\n",
    "nouns = ['NN','NNS','NNP','NNPS']\n",
    "tag_combs = []\n",
    "for noun in nouns:\n",
    "    tag_combs += [(adj, noun) for adj in adjs] # A,N\n",
    "    for adj in adjs:\n",
    "        for noun_ in nouns:\n",
    "            tag_combs.append((adj, noun, noun_)) # A, N, N\n",
    "            tag_combs.append((noun, adj, noun_)) # N, A, N\n",
    "        tag_combs += [(adj, adj_, noun) for adj_ in adjs] # A, A, N\n",
    "    for noun_ in nouns:\n",
    "        tag_combs += [(noun, noun_, noun__) for noun__ in nouns] # N, N, N\n",
    "        tag_combs += [(noun, 'IN', noun_)] # N, P, N\n",
    "    tag_combs += [(noun_, noun) for noun_ in nouns] # N, N"
   ]
  },
  {
   "cell_type": "code",
   "execution_count": 5,
   "metadata": {},
   "outputs": [],
   "source": [
    "def get_most_common(test_func, tagged_ngram_counter, reverse=True, m=slice(0,20)):\n",
    "    most_common = sorted(test_func, key=test_func.get, reverse=reverse)[m]\n",
    "    print(\"               ngram              |        tags        |  count  |   test   \")\n",
    "    for tagged_ngram in most_common:\n",
    "        ngram, tags = tagged_ngram\n",
    "        print(f\"{repr(ngram):^34}|{repr(tags):^20}|{repr(tagged_ngram_counter[tagged_ngram]):^9}|{test_func[tagged_ngram]:^8.1f}\")"
   ]
  },
  {
   "cell_type": "markdown",
   "metadata": {},
   "source": [
    "## T-test"
   ]
  },
  {
   "cell_type": "markdown",
   "metadata": {},
   "source": [
    "<div style=\"font-size: 20px\">\n",
    "$$t = \\frac{\\bar{X} - \\mu}{\\sqrt{\\frac{s^2}{N}}}$$\n",
    "<br><div style=\"font-size:15px\">\n",
    "$\\mu=p(w1,w2)=p(w1)*p(w2)=\\frac{count(w1)}{n_{bigrams}}\\frac{count(w2)}{n_{bigrams}}$\n",
    "<br>$\\bar{X}=p(w1,w2)=\\frac{count(w1,w2)}{n_{bigrams}}$\n",
    "<br>$s^2=p(w1,w2)*\\left(1-p(w1,w2)\\right)\\approx p(w1,w2),$\n",
    "<br>because probability of each bigram is very small $\\Rightarrow (1-p) \\approx 1$\n",
    "    \n",
    "    \n",
    "$$t = \\frac{\\frac{count(w1,w2)}{n_{bigrams}} - \\frac{count(w1)*count(w2)}{n_{bigrams}^2}}{\\sqrt{\\frac{count(w1,w2)}{n_{bigrams}^2}}} = \\sqrt{count(w1,w2)} - \\frac{count(w1)*count(w2)}{n*\\sqrt{count(w1,w2)}}$$"
   ]
  },
  {
   "cell_type": "markdown",
   "metadata": {},
   "source": [
    "## BIGRAMS"
   ]
  },
  {
   "cell_type": "code",
   "execution_count": 6,
   "metadata": {},
   "outputs": [],
   "source": [
    "filtered_bigram_counter = Counter()\n",
    "for tagged_bigram, count in tagged_bigram_counter.items():\n",
    "    _, tags = tagged_bigram\n",
    "    if tags in tag_combs:\n",
    "        filtered_bigram_counter[tagged_bigram] = count\n",
    "        \n",
    "student_t2 = dict()\n",
    "n_bigrams = sum(bigram_counter.values())\n",
    "for tagged_bigram, count in filtered_bigram_counter.items():\n",
    "    bigram, _ = tagged_bigram\n",
    "    w1, w2 = bigram.split()\n",
    "    student_t2[tagged_bigram] = math.sqrt(count) \n",
    "    student_t2[tagged_bigram] -= unigram_counter[w1] * unigram_counter[w2] / n_bigrams / math.sqrt(count)"
   ]
  },
  {
   "cell_type": "code",
   "execution_count": 7,
   "metadata": {},
   "outputs": [
    {
     "name": "stdout",
     "output_type": "stream",
     "text": [
      "               ngram              |        tags        |  count  |   test   \n",
      "            'new york'            |    ('JJ', 'NN')    |  3320   |  57.5  \n",
      "           'last year'            |    ('JJ', 'NN')    |  2540   |  50.1  \n",
      "         'united states'          |   ('JJ', 'NNS')    |  2456   |  49.5  \n",
      "           'last week'            |    ('JJ', 'NN')    |  1610   |  39.9  \n",
      "         'prime minister'         |    ('JJ', 'NN')    |  1326   |  36.4  \n",
      "          'los angeles'           |   ('NN', 'NNS')    |  1101   |  33.2  \n",
      "           'last month'           |    ('JJ', 'NN')    |  1054   |  32.3  \n",
      "          'white house'           |    ('JJ', 'NN')    |  1029   |  32.0  \n",
      "           'first time'           |    ('JJ', 'NN')    |   958   |  30.6  \n",
      "          'barack obama'          |    ('NN', 'NN')    |   919   |  30.3  \n",
      "        'chief executive'         |    ('JJ', 'NN')    |   898   |  29.9  \n",
      "          'health care'           |    ('NN', 'NN')    |   774   |  27.8  \n",
      "             'i don'              |    ('NN', 'NN')    |   744   |  27.0  \n",
      "           'next year'            |    ('JJ', 'NN')    |   696   |  26.1  \n",
      "          'wall street'           |    ('NN', 'NN')    |   589   |  24.3  \n",
      "            'web site'            |    ('NN', 'NN')    |   546   |  23.4  \n",
      "          'human rights'          |   ('JJ', 'NNS')    |   507   |  22.5  \n",
      "         'climate change'         |    ('NN', 'NN')    |   476   |  21.8  \n",
      "         'vice president'         |    ('NN', 'NN')    |   464   |  21.5  \n",
      "          'north korea'           |    ('JJ', 'NN')    |   458   |  21.4  \n",
      "        'president obama'         |    ('NN', 'NN')    |   443   |  20.8  \n",
      "          'south africa'          |    ('NN', 'NN')    |   414   |  20.3  \n",
      "              '/ /'               |    ('NN', 'NN')    |   411   |  20.1  \n",
      "         'san francisco'          |    ('JJ', 'NN')    |   403   |  20.1  \n",
      "         'supreme court'          |    ('JJ', 'NN')    |   397   |  19.9  \n",
      "        'president barack'        |    ('NN', 'NN')    |   398   |  19.9  \n",
      "           'world cup'            |    ('NN', 'NN')    |   392   |  19.7  \n",
      "          'high school'           |    ('JJ', 'NN')    |   384   |  19.5  \n",
      "            'пїѕ пїѕ'             |    ('NN', 'NN')    |   379   |  19.5  \n",
      "           'next week'            |    ('JJ', 'NN')    |   374   |  19.2  \n",
      "         'third quarter'          |    ('JJ', 'NN')    |   369   |  19.2  \n",
      "           'same time'            |    ('JJ', 'NN')    |   370   |  19.1  \n",
      "         'united nations'         |   ('JJ', 'NNS')    |   358   |  18.9  \n",
      "          'real estate'           |    ('JJ', 'NN')    |   352   |  18.8  \n",
      "         'first quarter'          |    ('JJ', 'NN')    |   351   |  18.6  \n",
      "          'john mccain'           |    ('NN', 'NN')    |   345   |  18.6  \n",
      "          'news agency'           |    ('NN', 'NN')    |   334   |  18.2  \n",
      "         'premier league'         |    ('NN', 'NN')    |   332   |  18.2  \n",
      "        'federal reserve'         |    ('JJ', 'NN')    |   323   |  18.0  \n",
      "         'fourth quarter'         |    ('JJ', 'NN')    |   323   |  18.0  \n",
      "           'hong kong'            |    ('NN', 'NN')    |   322   |  17.9  \n",
      "           'last night'           |    ('JJ', 'NN')    |   325   |  17.8  \n",
      "         'second quarter'         |    ('JJ', 'NN')    |   319   |  17.8  \n",
      "          'prnewswire /'          |    ('NN', 'NN')    |   312   |  17.7  \n",
      "        'financial crisis'        |    ('JJ', 'NN')    |   312   |  17.6  \n",
      "          'middle east'           |    ('JJ', 'NN')    |   310   |  17.6  \n",
      "          'recent years'          |   ('JJ', 'NNS')    |   314   |  17.6  \n",
      "         'european union'         |    ('JJ', 'NN')    |   309   |  17.6  \n",
      "          '/ prnewswire'          |    ('NN', 'NN')    |   306   |  17.5  \n",
      "           'york city'            |    ('NN', 'NN')    |   298   |  17.1  \n"
     ]
    }
   ],
   "source": [
    "get_most_common(student_t2, tagged_bigram_counter, reverse=True, m=slice(0,50))"
   ]
  },
  {
   "cell_type": "code",
   "execution_count": 26,
   "metadata": {},
   "outputs": [
    {
     "name": "stdout",
     "output_type": "stream",
     "text": [
      "               ngram              |        tags        |  count  |   test   \n",
      "            'other i'             |    ('JJ', 'NN')    |    1    | -24.4  \n",
      "             'i time'             |    ('NN', 'NN')    |    1    | -21.4  \n",
      "          'government i'          |    ('NN', 'NN')    |    1    | -19.4  \n",
      "          'president i'           |    ('NN', 'NN')    |    1    | -15.7  \n",
      "          'people year'           |   ('NNS', 'NN')    |    1    | -15.5  \n",
      "          'year people'           |   ('NN', 'NNS')    |    1    | -15.5  \n",
      "            'new time'            |    ('JJ', 'NN')    |    1    | -15.4  \n",
      "            'i people'            |   ('NN', 'NNS')    |    3    | -15.3  \n",
      "         'people people'          |   ('NNS', 'NNS')   |    1    | -15.1  \n",
      "          'last people'           |   ('JJ', 'NNS')    |    1    | -14.7  \n",
      "           'company i'            |    ('NN', 'NN')    |    1    | -14.3  \n",
      "            'state i'             |    ('NN', 'NN')    |    1    | -13.7  \n",
      "             'get i'              |    ('NN', 'NN')    |    1    | -12.6  \n",
      "          'years people'          |   ('NNS', 'NNS')   |    1    | -11.9  \n",
      "           'year time'            |    ('NN', 'NN')    |    1    | -11.5  \n",
      "            'world i'             |    ('NN', 'NN')    |    2    | -11.3  \n",
      "             'u.s. i'             |    ('NN', 'NN')    |    2    | -10.7  \n",
      "              'i i'               |    ('NN', 'NN')    |   14    | -10.7  \n",
      "           'year year'            |    ('NN', 'NN')    |    2    | -10.5  \n",
      "             'many i'             |    ('JJ', 'NN')    |    2    | -10.5  \n",
      "          'other years'           |   ('JJ', 'NNS')    |    1    | -10.1  \n",
      "            'united i'            |    ('JJ', 'NN')    |    1    |  -9.8  \n",
      "           'new obama'            |    ('JJ', 'NN')    |    1    |  -9.6  \n",
      "            'public i'            |    ('NN', 'NN')    |    1    |  -9.3  \n",
      "             'new /'              |    ('JJ', 'NN')    |    1    |  -8.9  \n",
      "          'world people'          |   ('NN', 'NNS')    |    1    |  -8.8  \n",
      "           'time years'           |   ('NN', 'NNS')    |    1    |  -8.8  \n",
      "             'mr. i'              |    ('NN', 'NN')    |    1    |  -8.6  \n",
      "             'i home'             |    ('NN', 'NN')    |    2    |  -8.5  \n",
      "          'u.s. people'           |   ('JJ', 'NNS')    |    1    |  -8.3  \n",
      "         'year president'         |    ('NN', 'NN')    |    1    |  -8.3  \n",
      "           'time time'            |    ('NN', 'NN')    |    1    |  -8.3  \n",
      "           'new years'            |   ('JJ', 'NNS')    |    3    |  -8.2  \n",
      "           'american i'           |    ('JJ', 'NN')    |    1    |  -8.1  \n",
      "         'people police'          |   ('NNS', 'NNS')   |    1    |  -7.7  \n",
      "             'i team'             |    ('NN', 'NN')    |    1    |  -7.7  \n",
      "             'good i'             |    ('JJ', 'NN')    |    1    |  -7.6  \n",
      "             'i news'             |    ('JJ', 'NN')    |    1    |  -7.6  \n",
      "             'news i'             |    ('NN', 'NN')    |    1    |  -7.6  \n",
      "            'i report'            |    ('JJ', 'NN')    |    1    |  -7.5  \n",
      "           'time year'            |    ('NN', 'NN')    |    2    |  -7.5  \n",
      "            'friday i'            |    ('NN', 'NN')    |    1    |  -7.4  \n",
      "           'i business'           |    ('NN', 'NN')    |    1    |  -7.4  \n",
      "           'business i'           |    ('NN', 'NN')    |    1    |  -7.4  \n",
      "             'i bank'             |   ('NNS', 'NN')    |    1    |  -7.4  \n",
      "             'bank i'             |    ('NN', 'NN')    |    1    |  -7.4  \n",
      "             'last i'             |    ('JJ', 'NN')    |    8    |  -7.3  \n",
      "          'time people'           |   ('NN', 'NNS')    |    2    |  -7.3  \n",
      "           'year state'           |    ('NN', 'NN')    |    1    |  -7.3  \n",
      "              '% i'               |    ('NN', 'NN')    |    1    |  -7.2  \n"
     ]
    }
   ],
   "source": [
    "get_most_common(student_t2, tagged_bigram_counter, reverse=False, m=slice(0,50))"
   ]
  },
  {
   "cell_type": "markdown",
   "metadata": {},
   "source": [
    "## TRIGRAMS"
   ]
  },
  {
   "cell_type": "code",
   "execution_count": 8,
   "metadata": {},
   "outputs": [],
   "source": [
    "filtered_trigram_counter = Counter()\n",
    "for tagged_trigram, count in tagged_trigram_counter.items():\n",
    "    _, tags = tagged_trigram\n",
    "    if tags in tag_combs:\n",
    "        filtered_trigram_counter[tagged_trigram] = count\n",
    "        \n",
    "student_t3 = dict()\n",
    "n_trigrams = sum(trigram_counter.values())\n",
    "for tagged_trigram, count in filtered_trigram_counter.items():\n",
    "    trigram, _ = tagged_trigram\n",
    "    w1, w2, w3 = trigram.split()\n",
    "    student_t3[tagged_trigram] = math.sqrt(count) \n",
    "    student_t3[tagged_trigram] -= unigram_counter[w1] * unigram_counter[w2] * \\\n",
    "        unigram_counter[w3] / (n_trigrams * math.sqrt(count))"
   ]
  },
  {
   "cell_type": "code",
   "execution_count": 9,
   "metadata": {
    "scrolled": false
   },
   "outputs": [
    {
     "name": "stdout",
     "output_type": "stream",
     "text": [
      "               ngram              |        tags        |  count  |   test   \n",
      "     'hillary rodham clinton'     | ('JJ', 'NN', 'NN') |   135   |  9.9   \n",
      "             '* * *'              |('JJ', 'NNP', 'NN') |   81    |  8.2   \n",
      "        'osama bin laden'         | ('JJ', 'NN', 'NN') |   65    |  8.0   \n",
      "         'george w. bush'         | ('NN', 'NN', 'NN') |   194   |  7.9   \n",
      "             '= = ='              |('JJ', 'NNP', 'NN') |   55    |  7.4   \n",
      "     'gross domestic product'     | ('JJ', 'JJ', 'NN') |   85    |  7.3   \n",
      "       'pope benedict xvi'        | ('NN', 'NN', 'NN') |   49    |  7.0   \n",
      "          'san suu kyi'           | ('JJ', 'NN', 'NN') |   51    |  6.8   \n",
      "          'aung san suu'          | ('JJ', 'NN', 'NN') |   48    |  6.8   \n",
      "      'speaker nancy pelosi'      | ('NN', 'NN', 'NN') |   47    |  6.7   \n",
      "    'greenhouse gas emissions'    |('NN', 'NN', 'NNS') |   74    |  6.6   \n",
      "    'chancellor angela merkel'    | ('NN', 'NN', 'NN') |   44    |  6.5   \n",
      "       'nobel peace prize'        | ('JJ', 'NN', 'NN') |   45    |  5.7   \n",
      "           'вђљ г‚ в®'            |('JJ', 'NNP', 'NN') |   32    |  5.7   \n",
      "         'rio de janeiro'         | ('NN', 'IN', 'NN') |   33    |  5.6   \n",
      "        'asif ali zardari'        | ('NN', 'NN', 'NN') |   31    |  5.5   \n",
      "     'chairman ben bernanke'      | ('NN', 'NN', 'NN') |   49    |  5.2   \n",
      " 'secretary-general ban ki-moon'  | ('JJ', 'NN', 'NN') |   27    |  5.1   \n",
      "          'kim jong il'           | ('NN', 'NN', 'NN') |   26    |  5.1   \n",
      "      'president hu jintao'       | ('NN', 'NN', 'NN') |   35    |  5.0   \n",
      "    'german chancellor angela'    | ('JJ', 'NN', 'NN') |   32    |  5.0   \n",
      "      'minister ehud olmert'      | ('NN', 'NN', 'NN') |   28    |  4.8   \n",
      "         'lula da silva'          | ('NN', 'NN', 'NN') |   23    |  4.8   \n",
      "     'ayatollah ali khamenei'     | ('NN', 'NN', 'NN') |   22    |  4.7   \n",
      "      'united arab emirates'      |('JJ', 'NN', 'NNS') |   52    |  4.5   \n",
      "          'van der sar'           | ('NN', 'NN', 'NN') |   20    |  4.4   \n",
      "     'state condoleezza rice'     | ('NN', 'NN', 'NN') |   51    |  4.4   \n",
      "    'carbon dioxide emissions'    |('NN', 'NN', 'NNS') |   26    |  4.4   \n",
      "   'umar farouk abdulmutallab'    | ('JJ', 'NN', 'NN') |   19    |  4.4   \n",
      "    'gen. stanley mcchrystal'     | ('NN', 'NN', 'NN') |   20    |  4.3   \n",
      "     'president hugo chavez'      | ('NN', 'NN', 'NN') |   44    |  4.3   \n",
      "   'president dmitry medvedev'    | ('NN', 'NN', 'NN') |   31    |  4.2   \n",
      "       'premier wen jiabao'       | ('NN', 'NN', 'NN') |   18    |  4.2   \n",
      "     'madison square garden'      | ('NN', 'NN', 'NN') |   21    |  4.2   \n",
      "       'tamil tiger rebels'       |('NN', 'NN', 'NNS') |   19    |  4.1   \n",
      "     'roman catholic church'      | ('NN', 'JJ', 'NN') |   30    |  4.0   \n",
      "        'hang seng index'         | ('NN', 'NN', 'NN') |   17    |  4.0   \n",
      "'relevant tangential information' | ('JJ', 'JJ', 'NN') |   18    |  4.0   \n",
      "       'leader harry reid'        | ('NN', 'NN', 'NN') |   39    |  4.0   \n",
      "   'president felipe calderon'    | ('NN', 'NN', 'NN') |   25    |  3.9   \n",
      "        'martin del potro'        | ('NN', 'NN', 'NN') |   16    |  3.9   \n",
      "        'luiz inacio lula'        | ('NN', 'NN', 'NN') |   15    |  3.9   \n",
      "      'mir hossein mousavi'       | ('NN', 'NN', 'NN') |   15    |  3.9   \n",
      "   'venezuelan president hugo'    | ('NN', 'NN', 'NN') |   29    |  3.9   \n",
      "      'luiz felipe scolari'       | ('NN', 'NN', 'NN') |   15    |  3.9   \n",
      "        'san diego padres'        |('JJ', 'NN', 'NNS') |   18    |  3.9   \n",
      "   'benchmark 10-year treasury'   | ('JJ', 'JJ', 'NN') |   19    |  3.8   \n",
      "       'otc bulletin board'       |('NN', 'NNS', 'NN') |   15    |  3.8   \n",
      "      'embryonic stem cells'      |('JJ', 'NN', 'NNS') |   15    |  3.8   \n",
      "      'st. louis cardinals'       |('NN', 'NN', 'NNS') |   18    |  3.8   \n"
     ]
    }
   ],
   "source": [
    "get_most_common(student_t3, tagged_trigram_counter, m=slice(0,50))"
   ]
  },
  {
   "cell_type": "code",
   "execution_count": 27,
   "metadata": {},
   "outputs": [
    {
     "name": "stdout",
     "output_type": "stream",
     "text": [
      "               ngram              |        tags        |  count  |   test   \n",
      "         'police in have'         | ('NN', 'IN', 'NN') |    1    |-3552082.9\n",
      "        'people of people'        |('NNS', 'IN', 'NNS')|    1    |-2842770.3\n",
      "            'i that i'            | ('NN', 'IN', 'NN') |    2    |-2684572.1\n",
      "           'city of i'            | ('NN', 'IN', 'NN') |    1    |-2097445.4\n",
      "           'i in back'            | ('NN', 'IN', 'NN') |    1    |-2075549.2\n",
      "       'year of government'       | ('NN', 'IN', 'NN') |    1    |-2011519.2\n",
      "          'time in year'          | ('NN', 'IN', 'NN') |    1    |-1889234.9\n",
      "        'people of world'         |('NNS', 'IN', 'NN') |    1    |-1727302.4\n",
      "      'people in government'      |('NNS', 'IN', 'NN') |    1    |-1679840.3\n",
      "         'state in about'         | ('NN', 'IN', 'NN') |    1    |-1657291.7\n",
      "       'company of people'        |('NN', 'IN', 'NNS') |    1    |-1473511.8\n",
      "         'year of state'          | ('NN', 'IN', 'NN') |    1    |-1453886.1\n",
      "         'years of world'         |('NNS', 'IN', 'NN') |    1    |-1377458.7\n",
      "      'years in government'       |('NNS', 'IN', 'NN') |    1    |-1339609.4\n",
      "        'percent of time'         | ('NN', 'IN', 'NN') |    1    |-1337244.6\n",
      "           'night of i'           | ('NN', 'IN', 'NN') |    1    |-1264720.7\n",
      "          'world that i'          | ('NN', 'IN', 'NN') |    1    |-1262440.4\n",
      "        'percent in years'        |('NN', 'IN', 'NNS') |    1    |-1198956.6\n",
      "        'year for people'         |('NN', 'IN', 'NNS') |    1    |-1134825.9\n",
      "         \"'t for people\"          |('NNS', 'IN', 'NNS')|    1    |-1133285.3\n",
      "       'people of country'        |('NNS', 'IN', 'NN') |    1    |-1122311.8\n",
      "          'time that i'           | ('NN', 'IN', 'NN') |    2    |-1116632.0\n",
      "         'have of things'         |('NN', 'IN', 'NNS') |    1    |-1069744.2\n",
      "         'take of people'         |('NN', 'IN', 'NNS') |    1    |-1065445.9\n",
      "          'state that i'          | ('NN', 'IN', 'NN') |    1    |-1038468.2\n",
      "          'i in london'           | ('NN', 'IN', 'NN') |    1    |-1027291.5\n",
      "           'time of mr'           | ('NN', 'IN', 'NN') |    1    |-1019691.3\n",
      "         'work of people'         |('NN', 'IN', 'NNS') |    1    |-1017267.8\n",
      "          'week of time'          | ('NN', 'IN', 'NN') |    1    |-1002082.8\n",
      "          'day in year'           | ('NN', 'IN', 'NN') |    1    |-994454.8\n",
      "          'home that i'           | ('NN', 'IN', 'NN') |    1    |-991133.9\n",
      "         'years in state'         |('NNS', 'IN', 'NN') |    1    |-968242.9\n",
      "          'part of year'          | ('NN', 'IN', 'NN') |    1    |-959289.7\n",
      "       'people in country'        |('NNS', 'IN', 'NN') |    1    |-959040.6\n",
      "        'people in group'         |('NNS', 'IN', 'NN') |    1    |-945767.4\n",
      "         'have of course'         | ('NN', 'IN', 'NN') |    1    |-941175.9\n",
      "           'time as i'            | ('NN', 'IN', 'NN') |    1    |-921334.5\n",
      "        'health of people'        |('NN', 'IN', 'NNS') |    1    |-884580.6\n",
      "        'people for years'        |('NNS', 'IN', 'NNS')|    1    |-884422.4\n",
      "        'percent of obama'        | ('NN', 'IN', 'NN') |    1    |-865371.4\n",
      "         'state of world'         | ('NN', 'IN', 'NN') |    1    |-863330.8\n",
      "          'series of i'           | ('NN', 'IN', 'NN') |    1    |-861587.6\n",
      "         'months of year'         |('NNS', 'IN', 'NN') |    1    |-858269.2\n",
      "        'people in states'        |('NNS', 'IN', 'NNS')|    1    |-855105.0\n",
      "       'have of thousands'        |('NN', 'IN', 'NNS') |    1    |-847413.4\n",
      "        'time for people'         |('NN', 'IN', 'NNS') |    1    |-842928.2\n",
      "          'city that i'           | ('NN', 'IN', 'NN') |    1    |-838932.8\n",
      "         'team of people'         |('NN', 'IN', 'NNS') |    1    |-836929.0\n",
      "         'country that i'         | ('NN', 'IN', 'NN') |    1    |-820268.4\n",
      "       'president in u.s.'        | ('NN', 'IN', 'NN') |    1    |-794945.1\n"
     ]
    }
   ],
   "source": [
    "get_most_common(student_t3, tagged_trigram_counter, reverse=False, m=slice(0,50))"
   ]
  },
  {
   "cell_type": "markdown",
   "metadata": {},
   "source": [
    "<div style=\"font-size: 20px\"> \n",
    "$\\chi^2$ test\n",
    "<div style=\"font-size: 15px\"> \n",
    "<br>In the simplest case, the $\\chi^2$ test is applied to 2-by-2 tables like table below. The essence of the test is to compare the observed frequencies in the table with the frequencies expected for independence. If the difference between observed and expected frequencies is large, then we can reject the null hypothesis of independence.\n",
    "\n",
    "|  | $w1 = new$ | $w1 \\neq new$ |\n",
    "| --- | --- | --- |\n",
    "| $w2 = companies$ | 8 | 4667 |\n",
    "| $w2 \\neq companies$ | 15820 | 142871818 |\n",
    "\n",
    "<br> Take the statistics $X^2 = \\sum_{i,j} \\frac{(O_{ij}-E_{ij})^2}{E_{ij}}$\n",
    "<br> If $H_0$ is true, i.e. each of words in collocation is generated completely independently of the other, the quantity $X^2$ is asymptotically $\\chi^2$ distributed.\n",
    "<br> The $\\chi^2$ test can be applied to tables of any size, but it has a simpler form for 2-by-2 tables:\n",
    "<br> $\\chi^2 = \\frac{N*(O_{11}O_{22} - O_{12}O_{21})}{(O_{11}+O_{12})(O_{11}+O_{21})(O_{12}+O_{22})(O_{21}+O_{22})}$\n",
    "<br>$\\chi^2_{0.05} = 3.841$\n"
   ]
  },
  {
   "cell_type": "code",
   "execution_count": 10,
   "metadata": {},
   "outputs": [],
   "source": [
    "from collections import defaultdict\n",
    "\n",
    "def get_ngrams(sentence, n):\n",
    "    for i in range(len(sentence) - n + 1):\n",
    "        bigram = sentence[i:i+n]\n",
    "        yield bigram\n",
    "        yield bigram[::-1]\n",
    "        \n",
    "bigram_model = defaultdict(lambda: defaultdict(lambda: 0))\n",
    "for step, line in enumerate(test_corpus):\n",
    "    for w1, w2 in get_ngrams(line, 2):\n",
    "        bigram_model[w1][w2] += 1"
   ]
  },
  {
   "cell_type": "code",
   "execution_count": 11,
   "metadata": {},
   "outputs": [],
   "source": [
    "chi_sq = dict()\n",
    "for tagged_bigram, _ in filtered_bigram_counter.items():\n",
    "    bigram, _ = tagged_bigram\n",
    "    w1, w2 = bigram.split()\n",
    "    o11 = bigram_model[w1][w2]\n",
    "    o12 = sum(bigram_model[w2].values()) - o11\n",
    "    o21 = sum(bigram_model[w1].values()) - o11\n",
    "    o22 = n_bigrams - o11 - o12 - o21\n",
    "    chi_sq[tagged_bigram] = n_bigrams * (o11 * o22 - o12 * o21)**2\n",
    "    chi_sq[tagged_bigram] /= ((o11 + o12)*(o11 + o21)*(o12 + o22)*(o21 + o22))"
   ]
  },
  {
   "cell_type": "code",
   "execution_count": 24,
   "metadata": {},
   "outputs": [
    {
     "name": "stdout",
     "output_type": "stream",
     "text": [
      "               ngram              |        tags        |  count  |   test   \n",
      "      'esclerosis mгєltiple'      |    ('NN', 'NN')    |    1    |7227116.0\n",
      "         '-great -great'          |    ('NN', 'NN')    |    5    |5018827.2\n",
      "     'tapeshwar vishwakarma'      |    ('NN', 'NN')    |    1    |3613557.5\n",
      "           'zuo lianbi'           |    ('NN', 'NN')    |    1    |3613557.5\n",
      "         'soud baкјalawy'         |    ('NN', 'NN')    |    1    |3613557.5\n",
      "         'jaysuma saidy'          |    ('NN', 'NN')    |    1    |3613557.5\n",
      "   'noluthando mayende-sibiya'    |    ('JJ', 'NN')    |    1    |3613557.5\n",
      "           'rxc7 bxc7'            |    ('NN', 'NN')    |    1    |3613557.5\n",
      "           'kola liadi'           |    ('NN', 'NN')    |    1    |3613557.5\n",
      "           'igam ogam'            |    ('NN', 'NN')    |    1    |3613557.5\n",
      "      'diarmaid macculloch'       |    ('NN', 'NN')    |    1    |3613557.5\n",
      "         'maka chawoneka'         |    ('NN', 'NN')    |    1    |3613557.5\n",
      "          'sajjan gohel'          |    ('NN', 'NN')    |    1    |3613557.5\n",
      "        'krysztof wiecek'         |    ('NN', 'NN')    |    1    |3613557.5\n",
      "       'ladenburg thalmann'       |    ('NN', 'NN')    |    1    |3613557.5\n",
      "       'liette tousignant'        |    ('NN', 'NN')    |    1    |3613557.5\n",
      "      'nazamuddin mohammidy'      |   ('NNS', 'NN')    |    1    |3613557.5\n",
      "         'donec faucibus'         |    ('NN', 'NN')    |    1    |3613557.5\n",
      "         'temir sariyev'          |    ('NN', 'NN')    |    1    |3613557.5\n",
      "         'newsradio kdka'         |    ('NN', 'NN')    |    1    |3613557.5\n"
     ]
    }
   ],
   "source": [
    "get_most_common(chi_sq, tagged_bigram_counter)"
   ]
  },
  {
   "cell_type": "code",
   "execution_count": 28,
   "metadata": {},
   "outputs": [
    {
     "name": "stdout",
     "output_type": "stream",
     "text": [
      "               ngram              |        tags        |  count  |   test   \n",
      "            'tv media'            |   ('NN', 'NNS')    |    1    |  0.0   \n",
      "      'largest development'       |   ('JJS', 'NN')    |    1    |  0.0   \n",
      "        'several football'        |    ('JJ', 'NN')    |    1    |  0.0   \n",
      "       'several elections'        |   ('JJ', 'NNS')    |    1    |  0.0   \n",
      "          'india share'           |    ('NN', 'NN')    |    1    |  0.0   \n",
      "          'enough cases'          |   ('JJ', 'NNS')    |    1    |  0.0   \n",
      "           'watch show'           |    ('NN', 'NN')    |    1    |  0.0   \n",
      "          'english game'          |    ('JJ', 'NN')    |    1    |  0.0   \n",
      "        'provide building'        |    ('NN', 'NN')    |    1    |  0.0   \n",
      "      'administration shows'      |   ('NN', 'NNS')    |    1    |  0.0   \n",
      "          'many resort'           |    ('JJ', 'NN')    |    1    |  0.0   \n",
      "         'many manhattan'         |   ('JJ', 'NNS')    |    1    |  0.0   \n",
      "          'buy britain'           |    ('NN', 'NN')    |    1    |  0.0   \n",
      "        'statements today'        |   ('NNS', 'NN')    |    1    |  0.0   \n",
      "            'care tax'            |    ('NN', 'NN')    |    2    |  0.0   \n",
      "           'hope obama'           |    ('NN', 'NN')    |    3    |  0.0   \n",
      "          'china trust'           |    ('NN', 'NN')    |    1    |  0.0   \n",
      "         'most employees'         |   ('JJS', 'NNS')   |    3    |  0.0   \n",
      "          'final budget'          |    ('JJ', 'NN')    |    1    |  0.0   \n",
      "        'russia executive'        |    ('NN', 'NN')    |    1    |  0.0   \n"
     ]
    }
   ],
   "source": [
    "get_most_common(chi_sq, tagged_bigram_counter, reverse=False)"
   ]
  },
  {
   "cell_type": "markdown",
   "metadata": {},
   "source": [
    "### let's see CHI-SQUARED test result for more frequent bigrams"
   ]
  },
  {
   "cell_type": "code",
   "execution_count": 25,
   "metadata": {},
   "outputs": [
    {
     "name": "stdout",
     "output_type": "stream",
     "text": [
      "               ngram              |        tags        |  count  |   test   \n",
      "          'los angeles'           |   ('NN', 'NNS')    |  1101   |1809628.7\n",
      "           'hong kong'            |    ('NN', 'NN')    |   322   |1646998.1\n",
      "            'пїѕ пїѕ'             |    ('NN', 'NN')    |   379   |1633486.1\n",
      "           'las vegas'            |   ('NNS', 'NNS')   |   218   |1369042.7\n",
      "          'saudi arabia'          |    ('NN', 'NN')    |   167   |987565.1\n",
      "         'prime minister'         |    ('JJ', 'NN')    |  1326   |788904.2\n",
      "           'swine flu'            |    ('NN', 'NN')    |   243   |749368.7\n",
      "         'united states'          |   ('JJ', 'NNS')    |  2456   |734164.5\n",
      "         'san francisco'          |    ('JJ', 'NN')    |   403   |629484.9\n",
      "            'al qaeda'            |    ('NN', 'NN')    |   245   |612394.8\n",
      "   'forward-looking statements'   |   ('JJ', 'NNS')    |   249   |570793.5\n",
      "          '/ prnewswire'          |    ('NN', 'NN')    |   306   |439006.0\n",
      "          'prnewswire /'          |    ('NN', 'NN')    |   312   |439006.0\n",
      "            'new york'            |    ('JJ', 'NN')    |  3320   |403804.5\n",
      "           'san diego'            |    ('JJ', 'NN')    |   243   |378382.6\n",
      "     'prnewswire-firstcall /'     |    ('JJ', 'NN')    |   247   |343792.3\n",
      "        'chief executive'         |    ('JJ', 'NN')    |   898   |325224.9\n",
      "          'wall street'           |    ('NN', 'NN')    |   589   |321722.2\n",
      "           'st. louis'            |    ('NN', 'NN')    |   166   |316326.5\n",
      "          'barack obama'          |    ('NN', 'NN')    |   919   |314016.0\n",
      "            'web site'            |    ('NN', 'NN')    |   546   |265995.3\n",
      "           'dow jones'            |   ('NN', 'NNS')    |   172   |255380.6\n",
      "           'george w.'            |    ('NN', 'NN')    |   206   |251890.7\n",
      "         'premier league'         |    ('NN', 'NN')    |   332   |247210.3\n",
      "          'real estate'           |    ('JJ', 'NN')    |   352   |227638.0\n",
      "          'human rights'          |   ('JJ', 'NNS')    |   507   |222336.0\n",
      "          'white house'           |    ('JJ', 'NN')    |  1029   |207016.7\n",
      "         'climate change'         |    ('NN', 'NN')    |   476   |205911.4\n",
      "          'north korea'           |    ('JJ', 'NN')    |   458   |171584.9\n",
      "          'health care'           |    ('NN', 'NN')    |   774   |161318.3\n",
      "         'supreme court'          |    ('JJ', 'NN')    |   397   |160770.3\n",
      "         'global warming'         |    ('JJ', 'NN')    |   240   |155570.5\n",
      "        'northern ireland'        |    ('JJ', 'NN')    |   214   |148749.2\n",
      "        'federal reserve'         |    ('JJ', 'NN')    |   323   |146278.1\n",
      "            'w. bush'             |    ('NN', 'NN')    |   205   |138582.9\n",
      "          'middle east'           |    ('JJ', 'NN')    |   310   |127277.9\n",
      "          'south africa'          |    ('NN', 'NN')    |   414   |122871.5\n",
      "        'hillary clinton'         |    ('JJ', 'NN')    |   223   |112371.1\n",
      "           'last year'            |    ('JJ', 'NN')    |  2540   |101375.3\n",
      "         'vice president'         |    ('NN', 'NN')    |   464   |99579.2 \n",
      "         'interest rates'         |   ('NN', 'NNS')    |   294   |95708.3 \n",
      "          'natural gas'           |    ('JJ', 'NN')    |   203   |92790.1 \n",
      "           'last week'            |    ('JJ', 'NN')    |  1610   |91036.4 \n",
      "        'law enforcement'         |    ('NN', 'NN')    |   188   |84808.8 \n",
      "         'north carolina'         |    ('JJ', 'NN')    |   236   |82208.0 \n",
      "         'fourth quarter'         |    ('JJ', 'NN')    |   323   |80719.9 \n",
      "          'john mccain'           |    ('NN', 'NN')    |   345   |78096.3 \n",
      "         'european union'         |    ('JJ', 'NN')    |   309   |73039.1 \n",
      "        'attorney general'        |    ('NN', 'NN')    |   246   |65983.7 \n",
      "           'last month'           |    ('JJ', 'NN')    |  1054   |62894.2 \n"
     ]
    }
   ],
   "source": [
    "filtered_cs2 = {i:j for i,j in chi_sq.items() if tagged_bigram_counter[i]>160}\n",
    "get_most_common(filtered_cs2, tagged_bigram_counter, m=slice(0,50))"
   ]
  },
  {
   "cell_type": "markdown",
   "metadata": {},
   "source": [
    "<div style=\"font-size: 20px\">\n",
    "Max Likelihood test"
   ]
  },
  {
   "cell_type": "code",
   "execution_count": 14,
   "metadata": {},
   "outputs": [],
   "source": [
    "import numpy as np"
   ]
  },
  {
   "cell_type": "code",
   "execution_count": 15,
   "metadata": {},
   "outputs": [],
   "source": [
    "max_likelihood2 = dict()\n",
    "for tagged_bigram, c12 in filtered_bigram_counter.items():\n",
    "    bigram, _ = tagged_bigram\n",
    "    w1, w2 = bigram.split()\n",
    "    c1, c2 = unigram_counter[w1], unigram_counter[w2] \n",
    "#     c1, c2, c12 = sum(bigram_model[w1].values()), sum(bigram_model[w2].values()), bigram_model[w1][w2]\n",
    "    max_likelihood2[tagged_bigram] = np.log(c12 * n_bigrams / c1 / c2)"
   ]
  },
  {
   "cell_type": "code",
   "execution_count": 16,
   "metadata": {},
   "outputs": [
    {
     "name": "stdout",
     "output_type": "stream",
     "text": [
      "               ngram              |        tags        |  count  |   test   \n",
      "         'safwat hijazi'          |    ('NN', 'NN')    |    1    |  15.8  \n",
      "        'sadafumi kawato'         |    ('NN', 'NN')    |    1    |  15.8  \n",
      "          'katell djian'          |    ('NN', 'NN')    |    1    |  15.8  \n",
      "       'simгіn bolг\\xadvar'       |    ('NN', 'NN')    |    1    |  15.8  \n",
      "      'super-chic workboot'       |    ('JJ', 'NN')    |    1    |  15.8  \n",
      "        'rajne soderberg'         |    ('NN', 'NN')    |    1    |  15.8  \n",
      "     'tapeshwar vishwakarma'      |    ('NN', 'NN')    |    1    |  15.8  \n",
      "           'zuo lianbi'           |    ('NN', 'NN')    |    1    |  15.8  \n",
      "        'taichiro kiyota'         |    ('NN', 'NN')    |    1    |  15.8  \n",
      "   'receptor-associated kinase'   |    ('JJ', 'NN')    |    1    |  15.8  \n",
      "    'french-trained gendarme'     |    ('JJ', 'NN')    |    1    |  15.8  \n",
      "       'veltliner kamptal'        |    ('NN', 'NN')    |    1    |  15.8  \n",
      "        'prгєt-г -porter'         |    ('JJ', 'NN')    |    1    |  15.8  \n",
      "          'antti niemi'           |   ('NNS', 'NNS')   |    1    |  15.8  \n",
      "         'soud baкјalawy'         |    ('NN', 'NN')    |    1    |  15.8  \n",
      "         'brimin kipruto'         |    ('NN', 'NN')    |    1    |  15.8  \n",
      " \"'brien-trained four-year-olds\"  |   ('JJ', 'NNS')    |    1    |  15.8  \n",
      "    'ignacienne nyirarukundo'     |    ('NN', 'NN')    |    1    |  15.8  \n",
      "         'amancio ortego'         |    ('NN', 'NN')    |    1    |  15.8  \n",
      "          'ioana raluca'          |    ('NN', 'NN')    |    1    |  15.8  \n"
     ]
    }
   ],
   "source": [
    "get_most_common(max_likelihood2, tagged_bigram_counter, reverse=True)"
   ]
  },
  {
   "cell_type": "code",
   "execution_count": 17,
   "metadata": {},
   "outputs": [],
   "source": [
    "max_likelihood3 = dict()\n",
    "for tagged_trigram, c123 in filtered_trigram_counter.items():\n",
    "    trigram, _ = tagged_trigram\n",
    "    s23 = trigram.rfind(' ')\n",
    "    w12, w3 = trigram[:s23], trigram[s23+1:]\n",
    "    c12, c3 = bigram_counter[w12] , unigram_counter[w3] \n",
    "    max_likelihood3[tagged_trigram] = np.log(c123 * n_bigrams / c12 / c3)"
   ]
  },
  {
   "cell_type": "code",
   "execution_count": 18,
   "metadata": {},
   "outputs": [
    {
     "name": "stdout",
     "output_type": "stream",
     "text": [
      "               ngram              |        tags        |  count  |   test   \n",
      "  'passage between livestockism'  | ('NN', 'IN', 'NN') |    1    |  15.8  \n",
      "         'qadri al ahdal'         | ('NN', 'NN', 'NN') |    1    |  15.8  \n",
      "        'samir al quntar'         | ('NN', 'NN', 'NN') |    1    |  15.8  \n",
      "       'pit near chessell'        | ('NN', 'IN', 'NN') |    1    |  15.8  \n",
      "        'salon du dessin'         | ('NN', 'NN', 'NN') |    1    |  15.8  \n",
      "    'technology website heise'    |('NN', 'NNS', 'NN') |    1    |  15.8  \n",
      "  'euromeetings president rajne'  |('NNS', 'NN', 'NN') |    1    |  15.8  \n",
      "    'general anthony krastek'     | ('JJ', 'NN', 'NN') |    1    |  15.8  \n",
      "    'professor donald macrae'     | ('NN', 'NN', 'NN') |    1    |  15.8  \n",
      "   'traditional inupiat eskimo'   | ('JJ', 'NN', 'NN') |    1    |  15.8  \n",
      "'interleukin-1 receptor-associated kinase'| ('JJ', 'JJ', 'NN') |    1    |  15.8  \n",
      "       'design new get-ups'       |('NN', 'JJ', 'NNS') |    1    |  15.8  \n",
      " 'former french-trained gendarme' | ('JJ', 'JJ', 'NN') |    1    |  15.8  \n",
      "    'gruner veltliner kamptal'    | ('NN', 'NN', 'NN') |    1    |  15.8  \n",
      "     'paris prгєt-г -porter'      | ('JJ', 'JJ', 'NN') |    1    |  15.8  \n",
      "      'general tom perrelli'      | ('JJ', 'NN', 'NN') |    1    |  15.8  \n",
      "     'garages of strip-mall'      |('NNS', 'IN', 'NN') |    1    |  15.8  \n",
      "    'champion brimin kipruto'     | ('NN', 'NN', 'NN') |    1    |  15.8  \n",
      "    'champion eliud kipchoge'     | ('NN', 'NN', 'NN') |    1    |  15.8  \n",
      "    'champion viola kibiwott'     | ('NN', 'NN', 'NN') |    1    |  15.8  \n"
     ]
    }
   ],
   "source": [
    "get_most_common(max_likelihood3, tagged_trigram_counter)"
   ]
  },
  {
   "cell_type": "markdown",
   "metadata": {},
   "source": [
    "### let's see MAX LIKELIHOOD test result for more frequent bigrams and trigrams"
   ]
  },
  {
   "cell_type": "code",
   "execution_count": 19,
   "metadata": {},
   "outputs": [
    {
     "name": "stdout",
     "output_type": "stream",
     "text": [
      "               ngram              |        tags        |  count  |   test   \n",
      "           'las vegas'            |   ('NNS', 'NNS')   |   218   |  10.1  \n",
      "          'saudi arabia'          |    ('NN', 'NN')    |   167   |  10.0  \n",
      "           'hong kong'            |    ('NN', 'NN')    |   322   |  9.8   \n",
      "           'swine flu'            |    ('NN', 'NN')    |   243   |  9.4   \n",
      "            'al qaeda'            |    ('NN', 'NN')    |   245   |  9.2   \n",
      "   'forward-looking statements'   |   ('JJ', 'NNS')    |   249   |  9.1   \n",
      "           'st. louis'            |    ('NN', 'NN')    |   166   |  8.9   \n",
      "          'los angeles'           |   ('NN', 'NNS')    |  1101   |  8.7   \n",
      "         'san francisco'          |    ('JJ', 'NN')    |   403   |  8.7   \n",
      "           'san diego'            |    ('JJ', 'NN')    |   243   |  8.6   \n",
      "           'dow jones'            |   ('NN', 'NNS')    |   172   |  8.6   \n",
      "           'george w.'            |    ('NN', 'NN')    |   206   |  8.4   \n",
      "            'пїѕ пїѕ'             |    ('NN', 'NN')    |   379   |  8.4   \n",
      "         'premier league'         |    ('NN', 'NN')    |   332   |  8.0   \n",
      "        'northern ireland'        |    ('JJ', 'NN')    |   214   |  7.9   \n",
      "            'w. bush'             |    ('NN', 'NN')    |   205   |  7.9   \n",
      "          'real estate'           |    ('JJ', 'NN')    |   352   |  7.8   \n",
      "         'global warming'         |    ('JJ', 'NN')    |   240   |  7.8   \n",
      "         'prime minister'         |    ('JJ', 'NN')    |  1326   |  7.7   \n",
      "          'wall street'           |    ('NN', 'NN')    |   589   |  7.7   \n",
      "            'web site'            |    ('NN', 'NN')    |   546   |  7.6   \n",
      "        'hillary clinton'         |    ('JJ', 'NN')    |   223   |  7.5   \n",
      "        'law enforcement'         |    ('NN', 'NN')    |   188   |  7.5   \n",
      "          'natural gas'           |    ('JJ', 'NN')    |   203   |  7.5   \n",
      "        'federal reserve'         |    ('JJ', 'NN')    |   323   |  7.5   \n",
      "          'human rights'          |   ('JJ', 'NNS')    |   507   |  7.5   \n",
      "         'climate change'         |    ('NN', 'NN')    |   476   |  7.4   \n",
      "          'middle east'           |    ('JJ', 'NN')    |   310   |  7.4   \n",
      "         'supreme court'          |    ('JJ', 'NN')    |   397   |  7.4   \n",
      "          'north korea'           |    ('JJ', 'NN')    |   458   |  7.3   \n",
      "          'prnewswire /'          |    ('NN', 'NN')    |   312   |  7.3   \n",
      "        'chief executive'         |    ('JJ', 'NN')    |   898   |  7.3   \n",
      "        'nuclear weapons'         |   ('JJ', 'NNS')    |   170   |  7.3   \n",
      "           'net income'           |    ('JJ', 'NN')    |   161   |  7.3   \n",
      "          '/ prnewswire'          |    ('NN', 'NN')    |   306   |  7.3   \n",
      "     'prnewswire-firstcall /'     |    ('JJ', 'NN')    |   247   |  7.2   \n",
      "         'north carolina'         |    ('JJ', 'NN')    |   236   |  7.2   \n",
      "     'presidential candidate'     |    ('JJ', 'NN')    |   163   |  7.2   \n",
      "         'interest rates'         |   ('NN', 'NNS')    |   294   |  7.2   \n",
      "          'barack obama'          |    ('NN', 'NN')    |   919   |  7.1   \n",
      "         'united states'          |   ('JJ', 'NNS')    |  2456   |  7.1   \n",
      "          'south africa'          |    ('NN', 'NN')    |   414   |  7.0   \n",
      "        'attorney general'        |    ('NN', 'NN')    |   246   |  6.9   \n",
      "         'fourth quarter'         |    ('JJ', 'NN')    |   323   |  6.9   \n",
      "         'european union'         |    ('JJ', 'NN')    |   309   |  6.8   \n",
      "         'south carolina'         |    ('JJ', 'NN')    |   173   |  6.8   \n",
      "          'health care'           |    ('NN', 'NN')    |   774   |  6.7   \n",
      "         'vice president'         |    ('NN', 'NN')    |   464   |  6.7   \n",
      "           'air force'            |    ('NN', 'NN')    |   236   |  6.7   \n",
      "          'john mccain'           |    ('NN', 'NN')    |   345   |  6.7   \n"
     ]
    }
   ],
   "source": [
    "filtered_ml2 = {i:j for i,j in max_likelihood2.items() if tagged_bigram_counter[i]>160}\n",
    "get_most_common(filtered_ml2, tagged_bigram_counter, m=slice(0,50))"
   ]
  },
  {
   "cell_type": "code",
   "execution_count": 20,
   "metadata": {},
   "outputs": [
    {
     "name": "stdout",
     "output_type": "stream",
     "text": [
      "               ngram              |        tags        |  count  |   test   \n",
      "         'rio de janeiro'         | ('NN', 'IN', 'NN') |   33    |  12.0  \n",
      "      'president hu jintao'       | ('NN', 'NN', 'NN') |   35    |  11.8  \n",
      " 'secretary-general ban ki-moon'  | ('JJ', 'NN', 'NN') |   27    |  11.7  \n",
      "          'kim jong il'           | ('NN', 'NN', 'NN') |   26    |  11.5  \n",
      "           'вђљ г‚ в®'            |('JJ', 'NNP', 'NN') |   32    |  11.5  \n",
      "       'pope benedict xvi'        | ('NN', 'NN', 'NN') |   49    |  11.4  \n",
      "      'united arab emirates'      |('JJ', 'NN', 'NNS') |   52    |  11.2  \n",
      "   'venezuelan president hugo'    | ('NN', 'NN', 'NN') |   29    |  11.2  \n",
      "        'asif ali zardari'        | ('NN', 'NN', 'NN') |   31    |  11.0  \n",
      "          'san suu kyi'           | ('JJ', 'NN', 'NN') |   51    |  11.0  \n",
      "          'aung san suu'          | ('JJ', 'NN', 'NN') |   48    |  11.0  \n",
      "          'gulf of aden'          | ('NN', 'IN', 'NN') |   27    |  11.0  \n",
      "             '= = ='              |('JJ', 'NNP', 'NN') |   55    |  11.0  \n",
      "     'afghan president hamid'     | ('JJ', 'NN', 'NN') |   26    |  11.0  \n",
      "    'chancellor angela merkel'    | ('NN', 'NN', 'NN') |   44    |  11.0  \n",
      "    'german chancellor angela'    | ('JJ', 'NN', 'NN') |   32    |  10.9  \n",
      "      'speaker nancy pelosi'      | ('NN', 'NN', 'NN') |   47    |  10.8  \n",
      "      'minister ehud olmert'      | ('NN', 'NN', 'NN') |   28    |  10.8  \n",
      "     'president dick cheney'      | ('NN', 'NN', 'NN') |   30    |  10.8  \n",
      "        'osama bin laden'         | ('JJ', 'NN', 'NN') |   65    |  10.8  \n",
      "   'president dmitry medvedev'    | ('NN', 'NN', 'NN') |   31    |  10.7  \n",
      "       'leader harry reid'        | ('NN', 'NN', 'NN') |   39    |  10.4  \n",
      "     'president hugo chavez'      | ('NN', 'NN', 'NN') |   44    |  10.4  \n",
      "    'president robert mugabe'     | ('NN', 'NN', 'NN') |   32    |  10.4  \n",
      "     'chairman ben bernanke'      | ('NN', 'NN', 'NN') |   49    |  10.3  \n",
      "    'french president nicolas'    |('JJ', 'NN', 'NNS') |   42    |  10.3  \n",
      "     'condition of anonymity'     | ('NN', 'IN', 'NN') |   145   |  10.3  \n",
      "      'house speaker nancy'       | ('NN', 'NN', 'NN') |   35    |  10.2  \n",
      "    'mayor michael bloomberg'     | ('NN', 'NN', 'NN') |   26    |  10.1  \n",
      "          'hall of fame'          | ('NN', 'IN', 'NN') |   59    |  10.1  \n",
      "      'chamber of commerce'       | ('NN', 'IN', 'NN') |   42    |  10.1  \n",
      "      'state hillary rodham'      | ('NN', 'JJ', 'NN') |   38    |  10.0  \n",
      "       'former first lady'        | ('JJ', 'JJ', 'NN') |   26    |  9.9   \n",
      "     'state condoleezza rice'     | ('NN', 'NN', 'NN') |   51    |  9.8   \n",
      "       'nobel peace prize'        | ('JJ', 'NN', 'NN') |   45    |  9.7   \n",
      "      'president george w.'       | ('NN', 'NN', 'NN') |   124   |  9.7   \n",
      "      'reserve chairman ben'      | ('NN', 'NN', 'NN') |   43    |  9.6   \n",
      "     'majority leader harry'      | ('NN', 'NN', 'NN') |   41    |  9.6   \n",
      "         'house of lords'         |('NN', 'IN', 'NNS') |   52    |  9.5   \n",
      "        'john f. kennedy'         | ('NN', 'NN', 'NN') |   34    |  9.5   \n",
      "             '* * *'              |('JJ', 'NNP', 'NN') |   81    |  9.3   \n",
      "         'war on terror'          | ('NN', 'IN', 'NN') |   35    |  9.3   \n",
      "        'weapons of mass'         |('NNS', 'IN', 'NN') |   34    |  9.3   \n",
      "     'secretary robert gates'     |('NN', 'NN', 'NNS') |   51    |  9.3   \n",
      "    'greenhouse gas emissions'    |('NN', 'NN', 'NNS') |   74    |  9.3   \n",
      "          'world war ii'          | ('NN', 'NN', 'NN') |   119   |  9.3   \n",
      "     'gross domestic product'     | ('JJ', 'JJ', 'NN') |   85    |  9.2   \n",
      "        'court of appeals'        |('NN', 'IN', 'NNS') |   51    |  9.1   \n",
      "       'board of directors'       |('NN', 'IN', 'NNS') |   90    |  9.1   \n",
      "       'spoke on condition'       | ('NN', 'IN', 'NN') |   70    |  9.0   \n"
     ]
    }
   ],
   "source": [
    "filtered_ml3 = {i:j for i,j in max_likelihood3.items() if tagged_trigram_counter[i]>25}\n",
    "get_most_common(filtered_ml3, tagged_trigram_counter, m=slice(0,50))"
   ]
  },
  {
   "cell_type": "markdown",
   "metadata": {},
   "source": [
    "# nltk"
   ]
  },
  {
   "cell_type": "code",
   "execution_count": 21,
   "metadata": {},
   "outputs": [],
   "source": [
    "from itertools import chain\n",
    "from nltk.collocations import BigramCollocationFinder, BigramAssocMeasures\n",
    "\n",
    "words = list(chain.from_iterable(test_corpus))\n",
    "bigram_finder = BigramCollocationFinder.from_words(words)"
   ]
  },
  {
   "cell_type": "code",
   "execution_count": 22,
   "metadata": {},
   "outputs": [
    {
     "data": {
      "text/plain": [
       "[('``', \"''\"),\n",
       " ('of', 'the'),\n",
       " ('in', 'the'),\n",
       " ('.', 'the'),\n",
       " (',', '``'),\n",
       " (',', 'which'),\n",
       " ('on', 'the'),\n",
       " (',', 'but'),\n",
       " ('said', '.'),\n",
       " ('to', 'be'),\n",
       " ('.', 'but'),\n",
       " ('at', 'the'),\n",
       " ('for', 'the'),\n",
       " (',', 'and'),\n",
       " ('.', 'it'),\n",
       " ('.', 'he'),\n",
       " (',', 'who'),\n",
       " ('.', 'i'),\n",
       " ('more', 'than'),\n",
       " ('has', 'been'),\n",
       " ('will', 'be'),\n",
       " ('have', 'been'),\n",
       " ('in', 'a'),\n",
       " ('from', 'the'),\n",
       " ('he', 'said'),\n",
       " ('it', 'was'),\n",
       " ('it', 'is'),\n",
       " ('it', \"'s\"),\n",
       " ('as', 'a'),\n",
       " ('the', 'first'),\n",
       " ('by', 'the'),\n",
       " ('one', 'of'),\n",
       " ('with', 'the'),\n",
       " ('he', 'was'),\n",
       " ('with', 'a'),\n",
       " ('new', 'york'),\n",
       " ('according', 'to'),\n",
       " ('.', 'we'),\n",
       " (')', '-'),\n",
       " (\"''\", 'he'),\n",
       " (\"''\", 'said'),\n",
       " ('the', 'world'),\n",
       " ('to', 'the'),\n",
       " ('would', 'be'),\n",
       " ('had', 'been'),\n",
       " ('for', 'a'),\n",
       " ('is', 'a'),\n",
       " ('don', \"'t\"),\n",
       " (',', 'including'),\n",
       " ('.', 'this'),\n",
       " ('last', 'year'),\n",
       " ('the', 'company'),\n",
       " ('united', 'states'),\n",
       " ('the', 'same'),\n",
       " ('over', 'the'),\n",
       " ('the', 'united'),\n",
       " ('(', 'ap'),\n",
       " ('ap', ')'),\n",
       " ('.', 'they'),\n",
       " ('out', 'of'),\n",
       " ('per', 'cent'),\n",
       " ('this', 'year'),\n",
       " ('such', 'as'),\n",
       " ('part', 'of'),\n",
       " ('at', 'least'),\n",
       " (')', '--'),\n",
       " ('.', 'there'),\n",
       " ('the', 'country'),\n",
       " ('to', 'make'),\n",
       " ('the', 'government'),\n",
       " ('.', 'if'),\n",
       " (':', '``'),\n",
       " ('they', 'are'),\n",
       " (',', 'said'),\n",
       " (',', 'according'),\n",
       " ('that', 'the'),\n",
       " ('did', 'not'),\n",
       " ('there', 'is'),\n",
       " ('however', ','),\n",
       " (')', ','),\n",
       " ('a', 'new'),\n",
       " ('that', 'he'),\n",
       " ('into', 'the'),\n",
       " ('of', 'a'),\n",
       " ('the', 'u.s.'),\n",
       " ('to', 'get'),\n",
       " ('as', 'well'),\n",
       " ('said', 'he'),\n",
       " ('number', 'of'),\n",
       " ('is', 'not'),\n",
       " ('.', 'she'),\n",
       " ('the', 'new'),\n",
       " ('year', '.'),\n",
       " ('they', 'were'),\n",
       " ('the', 'most'),\n",
       " ('there', 'are'),\n",
       " ('and', 'other'),\n",
       " (',', 'he'),\n",
       " ('said', 'that'),\n",
       " ('last', 'week')]"
      ]
     },
     "execution_count": 22,
     "metadata": {},
     "output_type": "execute_result"
    }
   ],
   "source": [
    "bigram_finder.nbest(BigramAssocMeasures.student_t, 100)"
   ]
  }
 ],
 "metadata": {
  "kernelspec": {
   "display_name": "Python 3",
   "language": "python",
   "name": "python3"
  },
  "language_info": {
   "codemirror_mode": {
    "name": "ipython",
    "version": 3
   },
   "file_extension": ".py",
   "mimetype": "text/x-python",
   "name": "python",
   "nbconvert_exporter": "python",
   "pygments_lexer": "ipython3",
   "version": "3.7.4"
  }
 },
 "nbformat": 4,
 "nbformat_minor": 2
}
